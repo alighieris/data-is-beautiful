{
 "cells": [
  {
   "cell_type": "markdown",
   "metadata": {
    "id": "grqSrtTPTb_Y"
   },
   "source": [
    "# Análise Exploratória de Dados\n",
    "\n",
    "* Como os valores de alugueis estão distribuidos?\n",
    "* Existe relação entre o número de quartos e o valor do aluguel?\n",
    "* O que podemos observar sobre a possibilidade de aceitar animais?\n",
    "* Qual a relação entre cidades e os números de quartos?\n",
    "* Imóvel mobiliado impacta no preço do aluguel?\n",
    "* Como estão distribuidos os imóveis por número de banheiros?\n",
    "* Existe alguma relação entre o número de vagas de garagem e o valor do aluguel?\n",
    "* E o seguro incêndio?\n",
    "* Existe qualquer impacto do valor do iptu em relação ao valor imóvel?"
   ]
  },
  {
   "cell_type": "markdown",
   "metadata": {},
   "source": [
    "Corrigir data types no filtro e cidade Belo Horizonte."
   ]
  },
  {
   "cell_type": "markdown",
   "metadata": {
    "id": "Zh2gpr78Tb_Y"
   },
   "source": [
    "Importando as bibliotecas necessárias"
   ]
  },
  {
   "cell_type": "code",
   "execution_count": 1,
   "metadata": {
    "_cell_guid": "b1076dfc-b9ad-4769-8c92-a6c4dae69d19",
    "_uuid": "8f2839f25d086af736a60e9eeb907d3b93b6e0e5",
    "id": "RRKB6k5FTb_Z"
   },
   "outputs": [],
   "source": [
    "import numpy as np\n",
    "import pandas as pd\n",
    "import seaborn as sns\n",
    "import matplotlib.pyplot as plt\n",
    "import sqlite3"
   ]
  },
  {
   "cell_type": "markdown",
   "metadata": {
    "id": "1qcNCLTtUTng"
   },
   "source": [
    "Carregando a Base de Dados"
   ]
  },
  {
   "cell_type": "code",
   "execution_count": 2,
   "metadata": {},
   "outputs": [],
   "source": [
    "connect_dw_imoveis = sqlite3.connect(\"../data/imoveis_dw.db\")"
   ]
  },
  {
   "cell_type": "code",
   "execution_count": 3,
   "metadata": {},
   "outputs": [],
   "source": [
    "data = pd.read_sql_query(r\"\"\"\n",
    "    SELECT * FROM IMOVEIS\n",
    "    \"\"\", \n",
    "    connect_dw_imoveis\n",
    "    )"
   ]
  },
  {
   "cell_type": "markdown",
   "metadata": {},
   "source": [
    "**Aplicando o One Hot Encoder**"
   ]
  },
  {
   "cell_type": "markdown",
   "metadata": {},
   "source": [
    "Subistituindo o dataframe data pelo dataframe após aplicado o get_dummies()"
   ]
  },
  {
   "cell_type": "code",
   "execution_count": 4,
   "metadata": {},
   "outputs": [],
   "source": [
    "data = pd.get_dummies(data, columns=[\"estado\",\"cidade\"], prefix=[\"estado_\",\"cidade_\"])"
   ]
  },
  {
   "cell_type": "code",
   "execution_count": 5,
   "metadata": {},
   "outputs": [
    {
     "data": {
      "text/html": [
       "<div>\n",
       "<style scoped>\n",
       "    .dataframe tbody tr th:only-of-type {\n",
       "        vertical-align: middle;\n",
       "    }\n",
       "\n",
       "    .dataframe tbody tr th {\n",
       "        vertical-align: top;\n",
       "    }\n",
       "\n",
       "    .dataframe thead th {\n",
       "        text-align: right;\n",
       "    }\n",
       "</style>\n",
       "<table border=\"1\" class=\"dataframe\">\n",
       "  <thead>\n",
       "    <tr style=\"text-align: right;\">\n",
       "      <th></th>\n",
       "      <th>area</th>\n",
       "      <th>num_quartos</th>\n",
       "      <th>num_banheiros</th>\n",
       "      <th>garagem</th>\n",
       "      <th>num_andares</th>\n",
       "      <th>aceita_animais</th>\n",
       "      <th>mobilia</th>\n",
       "      <th>valor_aluguel</th>\n",
       "      <th>valor_condominio</th>\n",
       "      <th>valor_iptu</th>\n",
       "      <th>valor_seguro_incendio</th>\n",
       "      <th>estado__MG</th>\n",
       "      <th>estado__RJ</th>\n",
       "      <th>estado__RS</th>\n",
       "      <th>estado__SP</th>\n",
       "      <th>cidade__Belo Horizonte</th>\n",
       "      <th>cidade__Campinas</th>\n",
       "      <th>cidade__Porto Alegre</th>\n",
       "      <th>cidade__Rio De Janeiro</th>\n",
       "      <th>cidade__São Paulo</th>\n",
       "    </tr>\n",
       "  </thead>\n",
       "  <tbody>\n",
       "    <tr>\n",
       "      <th>0</th>\n",
       "      <td>70</td>\n",
       "      <td>2</td>\n",
       "      <td>1</td>\n",
       "      <td>1</td>\n",
       "      <td>7</td>\n",
       "      <td>1</td>\n",
       "      <td>1</td>\n",
       "      <td>3300</td>\n",
       "      <td>2065</td>\n",
       "      <td>211</td>\n",
       "      <td>42</td>\n",
       "      <td>0</td>\n",
       "      <td>0</td>\n",
       "      <td>0</td>\n",
       "      <td>1</td>\n",
       "      <td>0</td>\n",
       "      <td>0</td>\n",
       "      <td>0</td>\n",
       "      <td>0</td>\n",
       "      <td>1</td>\n",
       "    </tr>\n",
       "    <tr>\n",
       "      <th>1</th>\n",
       "      <td>320</td>\n",
       "      <td>4</td>\n",
       "      <td>4</td>\n",
       "      <td>0</td>\n",
       "      <td>20</td>\n",
       "      <td>1</td>\n",
       "      <td>0</td>\n",
       "      <td>4960</td>\n",
       "      <td>1200</td>\n",
       "      <td>1750</td>\n",
       "      <td>63</td>\n",
       "      <td>0</td>\n",
       "      <td>0</td>\n",
       "      <td>0</td>\n",
       "      <td>1</td>\n",
       "      <td>0</td>\n",
       "      <td>0</td>\n",
       "      <td>0</td>\n",
       "      <td>0</td>\n",
       "      <td>1</td>\n",
       "    </tr>\n",
       "    <tr>\n",
       "      <th>2</th>\n",
       "      <td>80</td>\n",
       "      <td>1</td>\n",
       "      <td>1</td>\n",
       "      <td>1</td>\n",
       "      <td>6</td>\n",
       "      <td>1</td>\n",
       "      <td>0</td>\n",
       "      <td>2800</td>\n",
       "      <td>1000</td>\n",
       "      <td>0</td>\n",
       "      <td>41</td>\n",
       "      <td>0</td>\n",
       "      <td>0</td>\n",
       "      <td>1</td>\n",
       "      <td>0</td>\n",
       "      <td>0</td>\n",
       "      <td>0</td>\n",
       "      <td>1</td>\n",
       "      <td>0</td>\n",
       "      <td>0</td>\n",
       "    </tr>\n",
       "    <tr>\n",
       "      <th>3</th>\n",
       "      <td>51</td>\n",
       "      <td>2</td>\n",
       "      <td>1</td>\n",
       "      <td>0</td>\n",
       "      <td>2</td>\n",
       "      <td>1</td>\n",
       "      <td>0</td>\n",
       "      <td>1112</td>\n",
       "      <td>270</td>\n",
       "      <td>22</td>\n",
       "      <td>17</td>\n",
       "      <td>0</td>\n",
       "      <td>0</td>\n",
       "      <td>1</td>\n",
       "      <td>0</td>\n",
       "      <td>0</td>\n",
       "      <td>0</td>\n",
       "      <td>1</td>\n",
       "      <td>0</td>\n",
       "      <td>0</td>\n",
       "    </tr>\n",
       "    <tr>\n",
       "      <th>4</th>\n",
       "      <td>25</td>\n",
       "      <td>1</td>\n",
       "      <td>1</td>\n",
       "      <td>0</td>\n",
       "      <td>1</td>\n",
       "      <td>0</td>\n",
       "      <td>0</td>\n",
       "      <td>800</td>\n",
       "      <td>0</td>\n",
       "      <td>25</td>\n",
       "      <td>11</td>\n",
       "      <td>0</td>\n",
       "      <td>0</td>\n",
       "      <td>0</td>\n",
       "      <td>1</td>\n",
       "      <td>0</td>\n",
       "      <td>0</td>\n",
       "      <td>0</td>\n",
       "      <td>0</td>\n",
       "      <td>1</td>\n",
       "    </tr>\n",
       "  </tbody>\n",
       "</table>\n",
       "</div>"
      ],
      "text/plain": [
       "   area  num_quartos  num_banheiros  garagem  num_andares  aceita_animais  \\\n",
       "0    70            2              1        1            7               1   \n",
       "1   320            4              4        0           20               1   \n",
       "2    80            1              1        1            6               1   \n",
       "3    51            2              1        0            2               1   \n",
       "4    25            1              1        0            1               0   \n",
       "\n",
       "   mobilia  valor_aluguel  valor_condominio  valor_iptu  \\\n",
       "0        1           3300              2065         211   \n",
       "1        0           4960              1200        1750   \n",
       "2        0           2800              1000           0   \n",
       "3        0           1112               270          22   \n",
       "4        0            800                 0          25   \n",
       "\n",
       "   valor_seguro_incendio  estado__MG  estado__RJ  estado__RS  estado__SP  \\\n",
       "0                     42           0           0           0           1   \n",
       "1                     63           0           0           0           1   \n",
       "2                     41           0           0           1           0   \n",
       "3                     17           0           0           1           0   \n",
       "4                     11           0           0           0           1   \n",
       "\n",
       "   cidade__Belo Horizonte  cidade__Campinas  cidade__Porto Alegre  \\\n",
       "0                       0                 0                     0   \n",
       "1                       0                 0                     0   \n",
       "2                       0                 0                     1   \n",
       "3                       0                 0                     1   \n",
       "4                       0                 0                     0   \n",
       "\n",
       "   cidade__Rio De Janeiro  cidade__São Paulo  \n",
       "0                       0                  1  \n",
       "1                       0                  1  \n",
       "2                       0                  0  \n",
       "3                       0                  0  \n",
       "4                       0                  1  "
      ]
     },
     "execution_count": 5,
     "metadata": {},
     "output_type": "execute_result"
    }
   ],
   "source": [
    "data.head()"
   ]
  },
  {
   "cell_type": "markdown",
   "metadata": {},
   "source": [
    "## Detecção de Outliers, Machine Learning, Deploy"
   ]
  },
  {
   "cell_type": "code",
   "execution_count": 6,
   "metadata": {},
   "outputs": [
    {
     "data": {
      "image/png": "[encoded data removed]",
      "text/plain": [
       "<Figure size 576x288 with 1 Axes>"
      ]
     },
     "metadata": {
      "needs_background": "light"
     },
     "output_type": "display_data"
    }
   ],
   "source": [
    "plt.figure(figsize=[8,4])\n",
    "sns.boxplot(x=data['valor_aluguel'])\n",
    "plt.show()"
   ]
  },
  {
   "cell_type": "code",
   "execution_count": 7,
   "metadata": {},
   "outputs": [
    {
     "data": {
      "text/plain": [
       "(1530.0, 5000.0)"
      ]
     },
     "execution_count": 7,
     "metadata": {},
     "output_type": "execute_result"
    }
   ],
   "source": [
    "q1 = data['valor_aluguel'].quantile(.25)\n",
    "q3 = data['valor_aluguel'].quantile(.75)\n",
    "q1, q3"
   ]
  },
  {
   "cell_type": "code",
   "execution_count": 8,
   "metadata": {},
   "outputs": [],
   "source": [
    "iqr = q3 - q1"
   ]
  },
  {
   "cell_type": "code",
   "execution_count": 9,
   "metadata": {},
   "outputs": [
    {
     "data": {
      "text/plain": [
       "(-3675.0, 10205.0)"
      ]
     },
     "execution_count": 9,
     "metadata": {},
     "output_type": "execute_result"
    }
   ],
   "source": [
    "lower = q1 - 1.5*iqr\n",
    "upper = q3 + 1.5*iqr\n",
    "lower, upper"
   ]
  },
  {
   "cell_type": "code",
   "execution_count": 10,
   "metadata": {},
   "outputs": [],
   "source": [
    "data_clean = data[(data['valor_aluguel'] >= lower) & (data['valor_aluguel'] <= upper)]"
   ]
  },
  {
   "cell_type": "code",
   "execution_count": 11,
   "metadata": {},
   "outputs": [
    {
     "data": {
      "text/html": [
       "<div>\n",
       "<style scoped>\n",
       "    .dataframe tbody tr th:only-of-type {\n",
       "        vertical-align: middle;\n",
       "    }\n",
       "\n",
       "    .dataframe tbody tr th {\n",
       "        vertical-align: top;\n",
       "    }\n",
       "\n",
       "    .dataframe thead th {\n",
       "        text-align: right;\n",
       "    }\n",
       "</style>\n",
       "<table border=\"1\" class=\"dataframe\">\n",
       "  <thead>\n",
       "    <tr style=\"text-align: right;\">\n",
       "      <th></th>\n",
       "      <th>area</th>\n",
       "      <th>num_quartos</th>\n",
       "      <th>num_banheiros</th>\n",
       "      <th>garagem</th>\n",
       "      <th>num_andares</th>\n",
       "      <th>aceita_animais</th>\n",
       "      <th>mobilia</th>\n",
       "      <th>valor_aluguel</th>\n",
       "      <th>valor_condominio</th>\n",
       "      <th>valor_iptu</th>\n",
       "      <th>valor_seguro_incendio</th>\n",
       "      <th>estado__MG</th>\n",
       "      <th>estado__RJ</th>\n",
       "      <th>estado__RS</th>\n",
       "      <th>estado__SP</th>\n",
       "      <th>cidade__Belo Horizonte</th>\n",
       "      <th>cidade__Campinas</th>\n",
       "      <th>cidade__Porto Alegre</th>\n",
       "      <th>cidade__Rio De Janeiro</th>\n",
       "      <th>cidade__São Paulo</th>\n",
       "    </tr>\n",
       "  </thead>\n",
       "  <tbody>\n",
       "    <tr>\n",
       "      <th>count</th>\n",
       "      <td>9977.000000</td>\n",
       "      <td>9977.000000</td>\n",
       "      <td>9977.000000</td>\n",
       "      <td>9977.000000</td>\n",
       "      <td>9977.000000</td>\n",
       "      <td>9977.000000</td>\n",
       "      <td>9977.000000</td>\n",
       "      <td>9977.000000</td>\n",
       "      <td>9.977000e+03</td>\n",
       "      <td>9977.000000</td>\n",
       "      <td>9977.000000</td>\n",
       "      <td>9977.000000</td>\n",
       "      <td>9977.000000</td>\n",
       "      <td>9977.000000</td>\n",
       "      <td>9977.000000</td>\n",
       "      <td>9977.000000</td>\n",
       "      <td>9977.000000</td>\n",
       "      <td>9977.000000</td>\n",
       "      <td>9977.000000</td>\n",
       "      <td>9977.000000</td>\n",
       "    </tr>\n",
       "    <tr>\n",
       "      <th>mean</th>\n",
       "      <td>134.480204</td>\n",
       "      <td>2.415957</td>\n",
       "      <td>2.092413</td>\n",
       "      <td>1.466573</td>\n",
       "      <td>5.243460</td>\n",
       "      <td>0.774882</td>\n",
       "      <td>0.235341</td>\n",
       "      <td>3221.233337</td>\n",
       "      <td>1.068422e+03</td>\n",
       "      <td>301.399218</td>\n",
       "      <td>43.940664</td>\n",
       "      <td>0.117570</td>\n",
       "      <td>0.144833</td>\n",
       "      <td>0.117169</td>\n",
       "      <td>0.620427</td>\n",
       "      <td>0.117570</td>\n",
       "      <td>0.083993</td>\n",
       "      <td>0.117169</td>\n",
       "      <td>0.144833</td>\n",
       "      <td>0.536434</td>\n",
       "    </tr>\n",
       "    <tr>\n",
       "      <th>std</th>\n",
       "      <td>550.667527</td>\n",
       "      <td>1.122319</td>\n",
       "      <td>1.289368</td>\n",
       "      <td>1.471634</td>\n",
       "      <td>5.842044</td>\n",
       "      <td>0.417681</td>\n",
       "      <td>0.424233</td>\n",
       "      <td>2296.025341</td>\n",
       "      <td>1.585605e+04</td>\n",
       "      <td>3190.804271</td>\n",
       "      <td>32.114269</td>\n",
       "      <td>0.322115</td>\n",
       "      <td>0.351950</td>\n",
       "      <td>0.321638</td>\n",
       "      <td>0.485305</td>\n",
       "      <td>0.322115</td>\n",
       "      <td>0.277391</td>\n",
       "      <td>0.321638</td>\n",
       "      <td>0.351950</td>\n",
       "      <td>0.498696</td>\n",
       "    </tr>\n",
       "    <tr>\n",
       "      <th>min</th>\n",
       "      <td>11.000000</td>\n",
       "      <td>1.000000</td>\n",
       "      <td>1.000000</td>\n",
       "      <td>0.000000</td>\n",
       "      <td>1.000000</td>\n",
       "      <td>0.000000</td>\n",
       "      <td>0.000000</td>\n",
       "      <td>450.000000</td>\n",
       "      <td>0.000000e+00</td>\n",
       "      <td>0.000000</td>\n",
       "      <td>3.000000</td>\n",
       "      <td>0.000000</td>\n",
       "      <td>0.000000</td>\n",
       "      <td>0.000000</td>\n",
       "      <td>0.000000</td>\n",
       "      <td>0.000000</td>\n",
       "      <td>0.000000</td>\n",
       "      <td>0.000000</td>\n",
       "      <td>0.000000</td>\n",
       "      <td>0.000000</td>\n",
       "    </tr>\n",
       "    <tr>\n",
       "      <th>25%</th>\n",
       "      <td>55.000000</td>\n",
       "      <td>2.000000</td>\n",
       "      <td>1.000000</td>\n",
       "      <td>0.000000</td>\n",
       "      <td>1.000000</td>\n",
       "      <td>1.000000</td>\n",
       "      <td>0.000000</td>\n",
       "      <td>1500.000000</td>\n",
       "      <td>1.910000e+02</td>\n",
       "      <td>34.000000</td>\n",
       "      <td>20.000000</td>\n",
       "      <td>0.000000</td>\n",
       "      <td>0.000000</td>\n",
       "      <td>0.000000</td>\n",
       "      <td>0.000000</td>\n",
       "      <td>0.000000</td>\n",
       "      <td>0.000000</td>\n",
       "      <td>0.000000</td>\n",
       "      <td>0.000000</td>\n",
       "      <td>0.000000</td>\n",
       "    </tr>\n",
       "    <tr>\n",
       "      <th>50%</th>\n",
       "      <td>85.000000</td>\n",
       "      <td>2.000000</td>\n",
       "      <td>2.000000</td>\n",
       "      <td>1.000000</td>\n",
       "      <td>3.000000</td>\n",
       "      <td>1.000000</td>\n",
       "      <td>0.000000</td>\n",
       "      <td>2500.000000</td>\n",
       "      <td>5.500000e+02</td>\n",
       "      <td>110.000000</td>\n",
       "      <td>33.000000</td>\n",
       "      <td>0.000000</td>\n",
       "      <td>0.000000</td>\n",
       "      <td>0.000000</td>\n",
       "      <td>1.000000</td>\n",
       "      <td>0.000000</td>\n",
       "      <td>0.000000</td>\n",
       "      <td>0.000000</td>\n",
       "      <td>0.000000</td>\n",
       "      <td>1.000000</td>\n",
       "    </tr>\n",
       "    <tr>\n",
       "      <th>75%</th>\n",
       "      <td>160.000000</td>\n",
       "      <td>3.000000</td>\n",
       "      <td>3.000000</td>\n",
       "      <td>2.000000</td>\n",
       "      <td>8.000000</td>\n",
       "      <td>1.000000</td>\n",
       "      <td>0.000000</td>\n",
       "      <td>4250.000000</td>\n",
       "      <td>1.119000e+03</td>\n",
       "      <td>307.000000</td>\n",
       "      <td>58.000000</td>\n",
       "      <td>0.000000</td>\n",
       "      <td>0.000000</td>\n",
       "      <td>0.000000</td>\n",
       "      <td>1.000000</td>\n",
       "      <td>0.000000</td>\n",
       "      <td>0.000000</td>\n",
       "      <td>0.000000</td>\n",
       "      <td>0.000000</td>\n",
       "      <td>1.000000</td>\n",
       "    </tr>\n",
       "    <tr>\n",
       "      <th>max</th>\n",
       "      <td>46335.000000</td>\n",
       "      <td>10.000000</td>\n",
       "      <td>10.000000</td>\n",
       "      <td>12.000000</td>\n",
       "      <td>301.000000</td>\n",
       "      <td>1.000000</td>\n",
       "      <td>1.000000</td>\n",
       "      <td>10200.000000</td>\n",
       "      <td>1.117000e+06</td>\n",
       "      <td>313700.000000</td>\n",
       "      <td>178.000000</td>\n",
       "      <td>1.000000</td>\n",
       "      <td>1.000000</td>\n",
       "      <td>1.000000</td>\n",
       "      <td>1.000000</td>\n",
       "      <td>1.000000</td>\n",
       "      <td>1.000000</td>\n",
       "      <td>1.000000</td>\n",
       "      <td>1.000000</td>\n",
       "      <td>1.000000</td>\n",
       "    </tr>\n",
       "  </tbody>\n",
       "</table>\n",
       "</div>"
      ],
      "text/plain": [
       "               area  num_quartos  num_banheiros      garagem  num_andares  \\\n",
       "count   9977.000000  9977.000000    9977.000000  9977.000000  9977.000000   \n",
       "mean     134.480204     2.415957       2.092413     1.466573     5.243460   \n",
       "std      550.667527     1.122319       1.289368     1.471634     5.842044   \n",
       "min       11.000000     1.000000       1.000000     0.000000     1.000000   \n",
       "25%       55.000000     2.000000       1.000000     0.000000     1.000000   \n",
       "50%       85.000000     2.000000       2.000000     1.000000     3.000000   \n",
       "75%      160.000000     3.000000       3.000000     2.000000     8.000000   \n",
       "max    46335.000000    10.000000      10.000000    12.000000   301.000000   \n",
       "\n",
       "       aceita_animais      mobilia  valor_aluguel  valor_condominio  \\\n",
       "count     9977.000000  9977.000000    9977.000000      9.977000e+03   \n",
       "mean         0.774882     0.235341    3221.233337      1.068422e+03   \n",
       "std          0.417681     0.424233    2296.025341      1.585605e+04   \n",
       "min          0.000000     0.000000     450.000000      0.000000e+00   \n",
       "25%          1.000000     0.000000    1500.000000      1.910000e+02   \n",
       "50%          1.000000     0.000000    2500.000000      5.500000e+02   \n",
       "75%          1.000000     0.000000    4250.000000      1.119000e+03   \n",
       "max          1.000000     1.000000   10200.000000      1.117000e+06   \n",
       "\n",
       "          valor_iptu  valor_seguro_incendio   estado__MG   estado__RJ  \\\n",
       "count    9977.000000            9977.000000  9977.000000  9977.000000   \n",
       "mean      301.399218              43.940664     0.117570     0.144833   \n",
       "std      3190.804271              32.114269     0.322115     0.351950   \n",
       "min         0.000000               3.000000     0.000000     0.000000   \n",
       "25%        34.000000              20.000000     0.000000     0.000000   \n",
       "50%       110.000000              33.000000     0.000000     0.000000   \n",
       "75%       307.000000              58.000000     0.000000     0.000000   \n",
       "max    313700.000000             178.000000     1.000000     1.000000   \n",
       "\n",
       "        estado__RS   estado__SP  cidade__Belo Horizonte  cidade__Campinas  \\\n",
       "count  9977.000000  9977.000000             9977.000000       9977.000000   \n",
       "mean      0.117169     0.620427                0.117570          0.083993   \n",
       "std       0.321638     0.485305                0.322115          0.277391   \n",
       "min       0.000000     0.000000                0.000000          0.000000   \n",
       "25%       0.000000     0.000000                0.000000          0.000000   \n",
       "50%       0.000000     1.000000                0.000000          0.000000   \n",
       "75%       0.000000     1.000000                0.000000          0.000000   \n",
       "max       1.000000     1.000000                1.000000          1.000000   \n",
       "\n",
       "       cidade__Porto Alegre  cidade__Rio De Janeiro  cidade__São Paulo  \n",
       "count           9977.000000             9977.000000        9977.000000  \n",
       "mean               0.117169                0.144833           0.536434  \n",
       "std                0.321638                0.351950           0.498696  \n",
       "min                0.000000                0.000000           0.000000  \n",
       "25%                0.000000                0.000000           0.000000  \n",
       "50%                0.000000                0.000000           1.000000  \n",
       "75%                0.000000                0.000000           1.000000  \n",
       "max                1.000000                1.000000           1.000000  "
      ]
     },
     "execution_count": 11,
     "metadata": {},
     "output_type": "execute_result"
    }
   ],
   "source": [
    "data_clean.describe()"
   ]
  },
  {
   "cell_type": "code",
   "execution_count": 12,
   "metadata": {},
   "outputs": [
    {
     "data": {
      "image/png": "[encoded data removed]",
      "text/plain": [
       "<Figure size 864x360 with 2 Axes>"
      ]
     },
     "metadata": {
      "needs_background": "light"
     },
     "output_type": "display_data"
    }
   ],
   "source": [
    "plt.figure(figsize=[12,5])\n",
    "plt.subplot(1,2,1)\n",
    "plt.title(\"Com Outliers\")\n",
    "sns.boxplot(x=data['valor_aluguel'])\n",
    "\n",
    "plt.subplot(1,2,2)\n",
    "plt.title(\"Sem Outliers\")\n",
    "sns.boxplot(x=data_clean['valor_aluguel'])\n",
    "\n",
    "plt.tight_layout(pad=1.2)\n",
    "plt.show()"
   ]
  },
  {
   "cell_type": "code",
   "execution_count": 13,
   "metadata": {},
   "outputs": [],
   "source": [
    "data = data_clean"
   ]
  },
  {
   "cell_type": "markdown",
   "metadata": {},
   "source": [
    "## Machine Learning"
   ]
  },
  {
   "cell_type": "code",
   "execution_count": 14,
   "metadata": {},
   "outputs": [],
   "source": [
    "y = data['valor_aluguel']\n",
    "x = data.drop(['valor_aluguel'],axis=1)"
   ]
  },
  {
   "cell_type": "code",
   "execution_count": 15,
   "metadata": {},
   "outputs": [],
   "source": [
    "from sklearn.model_selection import train_test_split\n",
    "from sklearn.metrics import mean_absolute_error, mean_squared_error, r2_score"
   ]
  },
  {
   "cell_type": "code",
   "execution_count": 16,
   "metadata": {},
   "outputs": [],
   "source": [
    "def metricas(y_test, preds):\n",
    "    print('MAE:', mean_absolute_error(y_test,preds))\n",
    "    print('RMSE:', np.sqrt(mean_squared_error(y_test,preds)))\n",
    "    print('R2:', r2_score(y_test,preds))\n"
   ]
  },
  {
   "cell_type": "code",
   "execution_count": 17,
   "metadata": {},
   "outputs": [],
   "source": [
    "X_train, X_test, Y_train, Y_test = train_test_split(x, y, test_size=0.3)"
   ]
  },
  {
   "cell_type": "markdown",
   "metadata": {},
   "source": [
    "### Cálculo da baseline:"
   ]
  },
  {
   "cell_type": "code",
   "execution_count": 18,
   "metadata": {},
   "outputs": [],
   "source": [
    "from sklearn.dummy import DummyRegressor"
   ]
  },
  {
   "cell_type": "code",
   "execution_count": 19,
   "metadata": {},
   "outputs": [],
   "source": [
    "model = DummyRegressor(strategy='median')"
   ]
  },
  {
   "cell_type": "code",
   "execution_count": 20,
   "metadata": {},
   "outputs": [
    {
     "name": "stdout",
     "output_type": "stream",
     "text": [
      "MAE: 1738.7097528390113\n",
      "RMSE: 2436.9268990039163\n",
      "R2: -0.10275766194340163\n"
     ]
    }
   ],
   "source": [
    "model.fit(X_train,Y_train)\n",
    "preds = model.predict(X_test)\n",
    "metricas(Y_test,preds)"
   ]
  },
  {
   "cell_type": "code",
   "execution_count": 21,
   "metadata": {},
   "outputs": [],
   "source": [
    "acc = []\n",
    "acc.append(['BAS',r2_score(Y_test,preds)])"
   ]
  },
  {
   "cell_type": "markdown",
   "metadata": {},
   "source": [
    "### Treino de modelo de Regressão"
   ]
  },
  {
   "cell_type": "code",
   "execution_count": 22,
   "metadata": {},
   "outputs": [],
   "source": [
    "from sklearn.linear_model import LinearRegression"
   ]
  },
  {
   "cell_type": "code",
   "execution_count": 23,
   "metadata": {},
   "outputs": [],
   "source": [
    "model = LinearRegression()\n",
    "model.fit(X_train,Y_train)\n",
    "preds = model.predict(X_test)\n"
   ]
  },
  {
   "cell_type": "code",
   "execution_count": 24,
   "metadata": {},
   "outputs": [
    {
     "name": "stdout",
     "output_type": "stream",
     "text": [
      "MAE: 236.9766840878787\n",
      "RMSE: 367.3243382202199\n",
      "R2: 0.9749449952113726\n"
     ]
    }
   ],
   "source": [
    "metricas(Y_test, preds)"
   ]
  },
  {
   "cell_type": "code",
   "execution_count": 25,
   "metadata": {},
   "outputs": [],
   "source": [
    "acc.append(['LIR',r2_score(Y_test,preds)])"
   ]
  },
  {
   "cell_type": "markdown",
   "metadata": {},
   "source": [
    "### Treino de Árvores de decisão"
   ]
  },
  {
   "cell_type": "code",
   "execution_count": 26,
   "metadata": {},
   "outputs": [],
   "source": [
    "from sklearn.tree import DecisionTreeRegressor"
   ]
  },
  {
   "cell_type": "code",
   "execution_count": 27,
   "metadata": {},
   "outputs": [],
   "source": [
    "model = DecisionTreeRegressor()\n",
    "model.fit(X_train, Y_train)\n",
    "preds = model.predict(X_test)"
   ]
  },
  {
   "cell_type": "code",
   "execution_count": 28,
   "metadata": {},
   "outputs": [
    {
     "name": "stdout",
     "output_type": "stream",
     "text": [
      "MAE: 74.00116900467602\n",
      "RMSE: 268.54284718000423\n",
      "R2: 0.9866087148248661\n"
     ]
    }
   ],
   "source": [
    "metricas(Y_test,preds)"
   ]
  },
  {
   "cell_type": "code",
   "execution_count": 29,
   "metadata": {},
   "outputs": [],
   "source": [
    "acc.append(['DTR',r2_score(Y_test,preds)])"
   ]
  },
  {
   "cell_type": "markdown",
   "metadata": {},
   "source": [
    "### Treino de Florestas Aleatórias"
   ]
  },
  {
   "cell_type": "code",
   "execution_count": 31,
   "metadata": {},
   "outputs": [],
   "source": [
    "from sklearn.ensemble import RandomForestRegressor"
   ]
  },
  {
   "cell_type": "code",
   "execution_count": 32,
   "metadata": {},
   "outputs": [],
   "source": [
    "model = RandomForestRegressor()\n",
    "model.fit(X_train, Y_train)\n",
    "preds = model.predict(X_test)"
   ]
  },
  {
   "cell_type": "code",
   "execution_count": 33,
   "metadata": {},
   "outputs": [
    {
     "name": "stdout",
     "output_type": "stream",
     "text": [
      "MAE: 70.81153011048552\n",
      "RMSE: 203.22581538273494\n",
      "R2: 0.9923307511510714\n"
     ]
    }
   ],
   "source": [
    "metricas(Y_test,preds)"
   ]
  },
  {
   "cell_type": "code",
   "execution_count": 34,
   "metadata": {},
   "outputs": [],
   "source": [
    "acc.append(['RFR',r2_score(Y_test,preds)])"
   ]
  },
  {
   "cell_type": "markdown",
   "metadata": {},
   "source": [
    "### Treino de KNN Regressor"
   ]
  },
  {
   "cell_type": "code",
   "execution_count": 35,
   "metadata": {},
   "outputs": [],
   "source": [
    "from sklearn.neighbors import KNeighborsRegressor"
   ]
  },
  {
   "cell_type": "code",
   "execution_count": 37,
   "metadata": {},
   "outputs": [],
   "source": [
    "model = KNeighborsRegressor()\n",
    "model.fit(X_train, Y_train)\n",
    "preds = model.predict(X_test)"
   ]
  },
  {
   "cell_type": "code",
   "execution_count": 38,
   "metadata": {},
   "outputs": [
    {
     "name": "stdout",
     "output_type": "stream",
     "text": [
      "MAE: 687.2233800935204\n",
      "RMSE: 1064.473528902497\n",
      "R2: 0.7895907577438037\n"
     ]
    }
   ],
   "source": [
    "metricas(Y_test,preds)"
   ]
  },
  {
   "cell_type": "code",
   "execution_count": 39,
   "metadata": {},
   "outputs": [],
   "source": [
    "acc.append(['KNN',r2_score(Y_test,preds)])"
   ]
  },
  {
   "cell_type": "code",
   "execution_count": 40,
   "metadata": {},
   "outputs": [
    {
     "data": {
      "text/plain": [
       "[['BAS', -0.10275766194340163],\n",
       " ['LIR', 0.9749449952113726],\n",
       " ['DTR', 0.9866087148248661],\n",
       " ['RFR', 0.9923307511510714],\n",
       " ['KNN', 0.7895907577438037]]"
      ]
     },
     "execution_count": 40,
     "metadata": {},
     "output_type": "execute_result"
    }
   ],
   "source": [
    "acc"
   ]
  },
  {
   "cell_type": "markdown",
   "metadata": {},
   "source": [
    "## Pycaret"
   ]
  },
  {
   "cell_type": "code",
   "execution_count": 41,
   "metadata": {},
   "outputs": [],
   "source": [
    "from pycaret.regression import *"
   ]
  },
  {
   "cell_type": "code",
   "execution_count": 42,
   "metadata": {},
   "outputs": [],
   "source": [
    "numeric_features = ['num_quartos', 'num_banheiros', 'garagem', 'num_andares', 'aceita_animais', 'mobilia']"
   ]
  },
  {
   "cell_type": "code",
   "execution_count": 46,
   "metadata": {},
   "outputs": [
    {
     "data": {
      "text/html": [
       "<style  type=\"text/css\" >\n",
       "#T_9be2a_row17_col1{\n",
       "            background-color:  lightgreen;\n",
       "        }</style><table id=\"T_9be2a_\" ><thead>    <tr>        <th class=\"blank level0\" ></th>        <th class=\"col_heading level0 col0\" >Description</th>        <th class=\"col_heading level0 col1\" >Value</th>    </tr></thead><tbody>\n",
       "                <tr>\n",
       "                        <th id=\"T_9be2a_level0_row0\" class=\"row_heading level0 row0\" >0</th>\n",
       "                        <td id=\"T_9be2a_row0_col0\" class=\"data row0 col0\" >session_id</td>\n",
       "                        <td id=\"T_9be2a_row0_col1\" class=\"data row0 col1\" >3412</td>\n",
       "            </tr>\n",
       "            <tr>\n",
       "                        <th id=\"T_9be2a_level0_row1\" class=\"row_heading level0 row1\" >1</th>\n",
       "                        <td id=\"T_9be2a_row1_col0\" class=\"data row1 col0\" >Target</td>\n",
       "                        <td id=\"T_9be2a_row1_col1\" class=\"data row1 col1\" >valor_aluguel</td>\n",
       "            </tr>\n",
       "            <tr>\n",
       "                        <th id=\"T_9be2a_level0_row2\" class=\"row_heading level0 row2\" >2</th>\n",
       "                        <td id=\"T_9be2a_row2_col0\" class=\"data row2 col0\" >Original Data</td>\n",
       "                        <td id=\"T_9be2a_row2_col1\" class=\"data row2 col1\" >(9977, 20)</td>\n",
       "            </tr>\n",
       "            <tr>\n",
       "                        <th id=\"T_9be2a_level0_row3\" class=\"row_heading level0 row3\" >3</th>\n",
       "                        <td id=\"T_9be2a_row3_col0\" class=\"data row3 col0\" >Missing Values</td>\n",
       "                        <td id=\"T_9be2a_row3_col1\" class=\"data row3 col1\" >False</td>\n",
       "            </tr>\n",
       "            <tr>\n",
       "                        <th id=\"T_9be2a_level0_row4\" class=\"row_heading level0 row4\" >4</th>\n",
       "                        <td id=\"T_9be2a_row4_col0\" class=\"data row4 col0\" >Numeric Features</td>\n",
       "                        <td id=\"T_9be2a_row4_col1\" class=\"data row4 col1\" >19</td>\n",
       "            </tr>\n",
       "            <tr>\n",
       "                        <th id=\"T_9be2a_level0_row5\" class=\"row_heading level0 row5\" >5</th>\n",
       "                        <td id=\"T_9be2a_row5_col0\" class=\"data row5 col0\" >Categorical Features</td>\n",
       "                        <td id=\"T_9be2a_row5_col1\" class=\"data row5 col1\" >0</td>\n",
       "            </tr>\n",
       "            <tr>\n",
       "                        <th id=\"T_9be2a_level0_row6\" class=\"row_heading level0 row6\" >6</th>\n",
       "                        <td id=\"T_9be2a_row6_col0\" class=\"data row6 col0\" >Ordinal Features</td>\n",
       "                        <td id=\"T_9be2a_row6_col1\" class=\"data row6 col1\" >False</td>\n",
       "            </tr>\n",
       "            <tr>\n",
       "                        <th id=\"T_9be2a_level0_row7\" class=\"row_heading level0 row7\" >7</th>\n",
       "                        <td id=\"T_9be2a_row7_col0\" class=\"data row7 col0\" >High Cardinality Features</td>\n",
       "                        <td id=\"T_9be2a_row7_col1\" class=\"data row7 col1\" >False</td>\n",
       "            </tr>\n",
       "            <tr>\n",
       "                        <th id=\"T_9be2a_level0_row8\" class=\"row_heading level0 row8\" >8</th>\n",
       "                        <td id=\"T_9be2a_row8_col0\" class=\"data row8 col0\" >High Cardinality Method</td>\n",
       "                        <td id=\"T_9be2a_row8_col1\" class=\"data row8 col1\" >None</td>\n",
       "            </tr>\n",
       "            <tr>\n",
       "                        <th id=\"T_9be2a_level0_row9\" class=\"row_heading level0 row9\" >9</th>\n",
       "                        <td id=\"T_9be2a_row9_col0\" class=\"data row9 col0\" >Transformed Train Set</td>\n",
       "                        <td id=\"T_9be2a_row9_col1\" class=\"data row9 col1\" >(6983, 16)</td>\n",
       "            </tr>\n",
       "            <tr>\n",
       "                        <th id=\"T_9be2a_level0_row10\" class=\"row_heading level0 row10\" >10</th>\n",
       "                        <td id=\"T_9be2a_row10_col0\" class=\"data row10 col0\" >Transformed Test Set</td>\n",
       "                        <td id=\"T_9be2a_row10_col1\" class=\"data row10 col1\" >(2994, 16)</td>\n",
       "            </tr>\n",
       "            <tr>\n",
       "                        <th id=\"T_9be2a_level0_row11\" class=\"row_heading level0 row11\" >11</th>\n",
       "                        <td id=\"T_9be2a_row11_col0\" class=\"data row11 col0\" >Shuffle Train-Test</td>\n",
       "                        <td id=\"T_9be2a_row11_col1\" class=\"data row11 col1\" >True</td>\n",
       "            </tr>\n",
       "            <tr>\n",
       "                        <th id=\"T_9be2a_level0_row12\" class=\"row_heading level0 row12\" >12</th>\n",
       "                        <td id=\"T_9be2a_row12_col0\" class=\"data row12 col0\" >Stratify Train-Test</td>\n",
       "                        <td id=\"T_9be2a_row12_col1\" class=\"data row12 col1\" >False</td>\n",
       "            </tr>\n",
       "            <tr>\n",
       "                        <th id=\"T_9be2a_level0_row13\" class=\"row_heading level0 row13\" >13</th>\n",
       "                        <td id=\"T_9be2a_row13_col0\" class=\"data row13 col0\" >Fold Generator</td>\n",
       "                        <td id=\"T_9be2a_row13_col1\" class=\"data row13 col1\" >KFold</td>\n",
       "            </tr>\n",
       "            <tr>\n",
       "                        <th id=\"T_9be2a_level0_row14\" class=\"row_heading level0 row14\" >14</th>\n",
       "                        <td id=\"T_9be2a_row14_col0\" class=\"data row14 col0\" >Fold Number</td>\n",
       "                        <td id=\"T_9be2a_row14_col1\" class=\"data row14 col1\" >10</td>\n",
       "            </tr>\n",
       "            <tr>\n",
       "                        <th id=\"T_9be2a_level0_row15\" class=\"row_heading level0 row15\" >15</th>\n",
       "                        <td id=\"T_9be2a_row15_col0\" class=\"data row15 col0\" >CPU Jobs</td>\n",
       "                        <td id=\"T_9be2a_row15_col1\" class=\"data row15 col1\" >-1</td>\n",
       "            </tr>\n",
       "            <tr>\n",
       "                        <th id=\"T_9be2a_level0_row16\" class=\"row_heading level0 row16\" >16</th>\n",
       "                        <td id=\"T_9be2a_row16_col0\" class=\"data row16 col0\" >Use GPU</td>\n",
       "                        <td id=\"T_9be2a_row16_col1\" class=\"data row16 col1\" >False</td>\n",
       "            </tr>\n",
       "            <tr>\n",
       "                        <th id=\"T_9be2a_level0_row17\" class=\"row_heading level0 row17\" >17</th>\n",
       "                        <td id=\"T_9be2a_row17_col0\" class=\"data row17 col0\" >Log Experiment</td>\n",
       "                        <td id=\"T_9be2a_row17_col1\" class=\"data row17 col1\" >True</td>\n",
       "            </tr>\n",
       "            <tr>\n",
       "                        <th id=\"T_9be2a_level0_row18\" class=\"row_heading level0 row18\" >18</th>\n",
       "                        <td id=\"T_9be2a_row18_col0\" class=\"data row18 col0\" >Experiment Name</td>\n",
       "                        <td id=\"T_9be2a_row18_col1\" class=\"data row18 col1\" >exp_DS</td>\n",
       "            </tr>\n",
       "            <tr>\n",
       "                        <th id=\"T_9be2a_level0_row19\" class=\"row_heading level0 row19\" >19</th>\n",
       "                        <td id=\"T_9be2a_row19_col0\" class=\"data row19 col0\" >USI</td>\n",
       "                        <td id=\"T_9be2a_row19_col1\" class=\"data row19 col1\" >5953</td>\n",
       "            </tr>\n",
       "            <tr>\n",
       "                        <th id=\"T_9be2a_level0_row20\" class=\"row_heading level0 row20\" >20</th>\n",
       "                        <td id=\"T_9be2a_row20_col0\" class=\"data row20 col0\" >Imputation Type</td>\n",
       "                        <td id=\"T_9be2a_row20_col1\" class=\"data row20 col1\" >simple</td>\n",
       "            </tr>\n",
       "            <tr>\n",
       "                        <th id=\"T_9be2a_level0_row21\" class=\"row_heading level0 row21\" >21</th>\n",
       "                        <td id=\"T_9be2a_row21_col0\" class=\"data row21 col0\" >Iterative Imputation Iteration</td>\n",
       "                        <td id=\"T_9be2a_row21_col1\" class=\"data row21 col1\" >None</td>\n",
       "            </tr>\n",
       "            <tr>\n",
       "                        <th id=\"T_9be2a_level0_row22\" class=\"row_heading level0 row22\" >22</th>\n",
       "                        <td id=\"T_9be2a_row22_col0\" class=\"data row22 col0\" >Numeric Imputer</td>\n",
       "                        <td id=\"T_9be2a_row22_col1\" class=\"data row22 col1\" >mean</td>\n",
       "            </tr>\n",
       "            <tr>\n",
       "                        <th id=\"T_9be2a_level0_row23\" class=\"row_heading level0 row23\" >23</th>\n",
       "                        <td id=\"T_9be2a_row23_col0\" class=\"data row23 col0\" >Iterative Imputation Numeric Model</td>\n",
       "                        <td id=\"T_9be2a_row23_col1\" class=\"data row23 col1\" >None</td>\n",
       "            </tr>\n",
       "            <tr>\n",
       "                        <th id=\"T_9be2a_level0_row24\" class=\"row_heading level0 row24\" >24</th>\n",
       "                        <td id=\"T_9be2a_row24_col0\" class=\"data row24 col0\" >Categorical Imputer</td>\n",
       "                        <td id=\"T_9be2a_row24_col1\" class=\"data row24 col1\" >constant</td>\n",
       "            </tr>\n",
       "            <tr>\n",
       "                        <th id=\"T_9be2a_level0_row25\" class=\"row_heading level0 row25\" >25</th>\n",
       "                        <td id=\"T_9be2a_row25_col0\" class=\"data row25 col0\" >Iterative Imputation Categorical Model</td>\n",
       "                        <td id=\"T_9be2a_row25_col1\" class=\"data row25 col1\" >None</td>\n",
       "            </tr>\n",
       "            <tr>\n",
       "                        <th id=\"T_9be2a_level0_row26\" class=\"row_heading level0 row26\" >26</th>\n",
       "                        <td id=\"T_9be2a_row26_col0\" class=\"data row26 col0\" >Unknown Categoricals Handling</td>\n",
       "                        <td id=\"T_9be2a_row26_col1\" class=\"data row26 col1\" >least_frequent</td>\n",
       "            </tr>\n",
       "            <tr>\n",
       "                        <th id=\"T_9be2a_level0_row27\" class=\"row_heading level0 row27\" >27</th>\n",
       "                        <td id=\"T_9be2a_row27_col0\" class=\"data row27 col0\" >Normalize</td>\n",
       "                        <td id=\"T_9be2a_row27_col1\" class=\"data row27 col1\" >False</td>\n",
       "            </tr>\n",
       "            <tr>\n",
       "                        <th id=\"T_9be2a_level0_row28\" class=\"row_heading level0 row28\" >28</th>\n",
       "                        <td id=\"T_9be2a_row28_col0\" class=\"data row28 col0\" >Normalize Method</td>\n",
       "                        <td id=\"T_9be2a_row28_col1\" class=\"data row28 col1\" >None</td>\n",
       "            </tr>\n",
       "            <tr>\n",
       "                        <th id=\"T_9be2a_level0_row29\" class=\"row_heading level0 row29\" >29</th>\n",
       "                        <td id=\"T_9be2a_row29_col0\" class=\"data row29 col0\" >Transformation</td>\n",
       "                        <td id=\"T_9be2a_row29_col1\" class=\"data row29 col1\" >False</td>\n",
       "            </tr>\n",
       "            <tr>\n",
       "                        <th id=\"T_9be2a_level0_row30\" class=\"row_heading level0 row30\" >30</th>\n",
       "                        <td id=\"T_9be2a_row30_col0\" class=\"data row30 col0\" >Transformation Method</td>\n",
       "                        <td id=\"T_9be2a_row30_col1\" class=\"data row30 col1\" >None</td>\n",
       "            </tr>\n",
       "            <tr>\n",
       "                        <th id=\"T_9be2a_level0_row31\" class=\"row_heading level0 row31\" >31</th>\n",
       "                        <td id=\"T_9be2a_row31_col0\" class=\"data row31 col0\" >PCA</td>\n",
       "                        <td id=\"T_9be2a_row31_col1\" class=\"data row31 col1\" >False</td>\n",
       "            </tr>\n",
       "            <tr>\n",
       "                        <th id=\"T_9be2a_level0_row32\" class=\"row_heading level0 row32\" >32</th>\n",
       "                        <td id=\"T_9be2a_row32_col0\" class=\"data row32 col0\" >PCA Method</td>\n",
       "                        <td id=\"T_9be2a_row32_col1\" class=\"data row32 col1\" >None</td>\n",
       "            </tr>\n",
       "            <tr>\n",
       "                        <th id=\"T_9be2a_level0_row33\" class=\"row_heading level0 row33\" >33</th>\n",
       "                        <td id=\"T_9be2a_row33_col0\" class=\"data row33 col0\" >PCA Components</td>\n",
       "                        <td id=\"T_9be2a_row33_col1\" class=\"data row33 col1\" >None</td>\n",
       "            </tr>\n",
       "            <tr>\n",
       "                        <th id=\"T_9be2a_level0_row34\" class=\"row_heading level0 row34\" >34</th>\n",
       "                        <td id=\"T_9be2a_row34_col0\" class=\"data row34 col0\" >Ignore Low Variance</td>\n",
       "                        <td id=\"T_9be2a_row34_col1\" class=\"data row34 col1\" >False</td>\n",
       "            </tr>\n",
       "            <tr>\n",
       "                        <th id=\"T_9be2a_level0_row35\" class=\"row_heading level0 row35\" >35</th>\n",
       "                        <td id=\"T_9be2a_row35_col0\" class=\"data row35 col0\" >Combine Rare Levels</td>\n",
       "                        <td id=\"T_9be2a_row35_col1\" class=\"data row35 col1\" >False</td>\n",
       "            </tr>\n",
       "            <tr>\n",
       "                        <th id=\"T_9be2a_level0_row36\" class=\"row_heading level0 row36\" >36</th>\n",
       "                        <td id=\"T_9be2a_row36_col0\" class=\"data row36 col0\" >Rare Level Threshold</td>\n",
       "                        <td id=\"T_9be2a_row36_col1\" class=\"data row36 col1\" >None</td>\n",
       "            </tr>\n",
       "            <tr>\n",
       "                        <th id=\"T_9be2a_level0_row37\" class=\"row_heading level0 row37\" >37</th>\n",
       "                        <td id=\"T_9be2a_row37_col0\" class=\"data row37 col0\" >Numeric Binning</td>\n",
       "                        <td id=\"T_9be2a_row37_col1\" class=\"data row37 col1\" >False</td>\n",
       "            </tr>\n",
       "            <tr>\n",
       "                        <th id=\"T_9be2a_level0_row38\" class=\"row_heading level0 row38\" >38</th>\n",
       "                        <td id=\"T_9be2a_row38_col0\" class=\"data row38 col0\" >Remove Outliers</td>\n",
       "                        <td id=\"T_9be2a_row38_col1\" class=\"data row38 col1\" >False</td>\n",
       "            </tr>\n",
       "            <tr>\n",
       "                        <th id=\"T_9be2a_level0_row39\" class=\"row_heading level0 row39\" >39</th>\n",
       "                        <td id=\"T_9be2a_row39_col0\" class=\"data row39 col0\" >Outliers Threshold</td>\n",
       "                        <td id=\"T_9be2a_row39_col1\" class=\"data row39 col1\" >None</td>\n",
       "            </tr>\n",
       "            <tr>\n",
       "                        <th id=\"T_9be2a_level0_row40\" class=\"row_heading level0 row40\" >40</th>\n",
       "                        <td id=\"T_9be2a_row40_col0\" class=\"data row40 col0\" >Remove Multicollinearity</td>\n",
       "                        <td id=\"T_9be2a_row40_col1\" class=\"data row40 col1\" >False</td>\n",
       "            </tr>\n",
       "            <tr>\n",
       "                        <th id=\"T_9be2a_level0_row41\" class=\"row_heading level0 row41\" >41</th>\n",
       "                        <td id=\"T_9be2a_row41_col0\" class=\"data row41 col0\" >Multicollinearity Threshold</td>\n",
       "                        <td id=\"T_9be2a_row41_col1\" class=\"data row41 col1\" >None</td>\n",
       "            </tr>\n",
       "            <tr>\n",
       "                        <th id=\"T_9be2a_level0_row42\" class=\"row_heading level0 row42\" >42</th>\n",
       "                        <td id=\"T_9be2a_row42_col0\" class=\"data row42 col0\" >Clustering</td>\n",
       "                        <td id=\"T_9be2a_row42_col1\" class=\"data row42 col1\" >False</td>\n",
       "            </tr>\n",
       "            <tr>\n",
       "                        <th id=\"T_9be2a_level0_row43\" class=\"row_heading level0 row43\" >43</th>\n",
       "                        <td id=\"T_9be2a_row43_col0\" class=\"data row43 col0\" >Clustering Iteration</td>\n",
       "                        <td id=\"T_9be2a_row43_col1\" class=\"data row43 col1\" >None</td>\n",
       "            </tr>\n",
       "            <tr>\n",
       "                        <th id=\"T_9be2a_level0_row44\" class=\"row_heading level0 row44\" >44</th>\n",
       "                        <td id=\"T_9be2a_row44_col0\" class=\"data row44 col0\" >Polynomial Features</td>\n",
       "                        <td id=\"T_9be2a_row44_col1\" class=\"data row44 col1\" >False</td>\n",
       "            </tr>\n",
       "            <tr>\n",
       "                        <th id=\"T_9be2a_level0_row45\" class=\"row_heading level0 row45\" >45</th>\n",
       "                        <td id=\"T_9be2a_row45_col0\" class=\"data row45 col0\" >Polynomial Degree</td>\n",
       "                        <td id=\"T_9be2a_row45_col1\" class=\"data row45 col1\" >None</td>\n",
       "            </tr>\n",
       "            <tr>\n",
       "                        <th id=\"T_9be2a_level0_row46\" class=\"row_heading level0 row46\" >46</th>\n",
       "                        <td id=\"T_9be2a_row46_col0\" class=\"data row46 col0\" >Trignometry Features</td>\n",
       "                        <td id=\"T_9be2a_row46_col1\" class=\"data row46 col1\" >False</td>\n",
       "            </tr>\n",
       "            <tr>\n",
       "                        <th id=\"T_9be2a_level0_row47\" class=\"row_heading level0 row47\" >47</th>\n",
       "                        <td id=\"T_9be2a_row47_col0\" class=\"data row47 col0\" >Polynomial Threshold</td>\n",
       "                        <td id=\"T_9be2a_row47_col1\" class=\"data row47 col1\" >None</td>\n",
       "            </tr>\n",
       "            <tr>\n",
       "                        <th id=\"T_9be2a_level0_row48\" class=\"row_heading level0 row48\" >48</th>\n",
       "                        <td id=\"T_9be2a_row48_col0\" class=\"data row48 col0\" >Group Features</td>\n",
       "                        <td id=\"T_9be2a_row48_col1\" class=\"data row48 col1\" >False</td>\n",
       "            </tr>\n",
       "            <tr>\n",
       "                        <th id=\"T_9be2a_level0_row49\" class=\"row_heading level0 row49\" >49</th>\n",
       "                        <td id=\"T_9be2a_row49_col0\" class=\"data row49 col0\" >Feature Selection</td>\n",
       "                        <td id=\"T_9be2a_row49_col1\" class=\"data row49 col1\" >False</td>\n",
       "            </tr>\n",
       "            <tr>\n",
       "                        <th id=\"T_9be2a_level0_row50\" class=\"row_heading level0 row50\" >50</th>\n",
       "                        <td id=\"T_9be2a_row50_col0\" class=\"data row50 col0\" >Feature Selection Method</td>\n",
       "                        <td id=\"T_9be2a_row50_col1\" class=\"data row50 col1\" >classic</td>\n",
       "            </tr>\n",
       "            <tr>\n",
       "                        <th id=\"T_9be2a_level0_row51\" class=\"row_heading level0 row51\" >51</th>\n",
       "                        <td id=\"T_9be2a_row51_col0\" class=\"data row51 col0\" >Features Selection Threshold</td>\n",
       "                        <td id=\"T_9be2a_row51_col1\" class=\"data row51 col1\" >None</td>\n",
       "            </tr>\n",
       "            <tr>\n",
       "                        <th id=\"T_9be2a_level0_row52\" class=\"row_heading level0 row52\" >52</th>\n",
       "                        <td id=\"T_9be2a_row52_col0\" class=\"data row52 col0\" >Feature Interaction</td>\n",
       "                        <td id=\"T_9be2a_row52_col1\" class=\"data row52 col1\" >False</td>\n",
       "            </tr>\n",
       "            <tr>\n",
       "                        <th id=\"T_9be2a_level0_row53\" class=\"row_heading level0 row53\" >53</th>\n",
       "                        <td id=\"T_9be2a_row53_col0\" class=\"data row53 col0\" >Feature Ratio</td>\n",
       "                        <td id=\"T_9be2a_row53_col1\" class=\"data row53 col1\" >False</td>\n",
       "            </tr>\n",
       "            <tr>\n",
       "                        <th id=\"T_9be2a_level0_row54\" class=\"row_heading level0 row54\" >54</th>\n",
       "                        <td id=\"T_9be2a_row54_col0\" class=\"data row54 col0\" >Interaction Threshold</td>\n",
       "                        <td id=\"T_9be2a_row54_col1\" class=\"data row54 col1\" >None</td>\n",
       "            </tr>\n",
       "            <tr>\n",
       "                        <th id=\"T_9be2a_level0_row55\" class=\"row_heading level0 row55\" >55</th>\n",
       "                        <td id=\"T_9be2a_row55_col0\" class=\"data row55 col0\" >Transform Target</td>\n",
       "                        <td id=\"T_9be2a_row55_col1\" class=\"data row55 col1\" >False</td>\n",
       "            </tr>\n",
       "            <tr>\n",
       "                        <th id=\"T_9be2a_level0_row56\" class=\"row_heading level0 row56\" >56</th>\n",
       "                        <td id=\"T_9be2a_row56_col0\" class=\"data row56 col0\" >Transform Target Method</td>\n",
       "                        <td id=\"T_9be2a_row56_col1\" class=\"data row56 col1\" >box-cox</td>\n",
       "            </tr>\n",
       "    </tbody></table>"
      ],
      "text/plain": [
       "<pandas.io.formats.style.Styler at 0x7f803590e070>"
      ]
     },
     "metadata": {},
     "output_type": "display_data"
    }
   ],
   "source": [
    "s = setup(data,\n",
    "         target = 'valor_aluguel',\n",
    "         numeric_features=numeric_features,\n",
    "         log_experiment=True,                # O experimento será armazenado e pode ser acessado com o MLFlow\n",
    "         experiment_name='exp_DS')"
   ]
  },
  {
   "cell_type": "markdown",
   "metadata": {},
   "source": [
    "Existe um problema ao testar os dados da maneira habitual (`train_test_split`), porque no processo aleatório de separação de dados para treino e teste, pode haver seleção de dados ideais, ou pode haver seleção de dados ruins para o treino. Assim, ao executar vários *splits*, pode haver variância entre os resultados dos testes, pois a cada vez está sendo usado uma parcela diferente dos dados para treino.\n",
    "\n",
    "Ao usa o **Cross Validation** todos os dados são usados para treino, pois acontece um *rodízio*, e há várias testagens seguidas até utilizar todos os dados. O parâmetro `fold` representa o número de partes em que o conjunto de dados será divido. Então o Cross Validation diminui a variabilidade nos resultados de testes, deixando-os mais consistentes."
   ]
  },
  {
   "cell_type": "code",
   "execution_count": 47,
   "metadata": {},
   "outputs": [
    {
     "data": {
      "text/html": [
       "<style  type=\"text/css\" >\n",
       "    #T_0ae2c_ th {\n",
       "          text-align: left;\n",
       "    }#T_0ae2c_row0_col0,#T_0ae2c_row0_col1,#T_0ae2c_row0_col6,#T_0ae2c_row1_col0,#T_0ae2c_row1_col2,#T_0ae2c_row1_col3,#T_0ae2c_row1_col4,#T_0ae2c_row1_col5,#T_0ae2c_row2_col0,#T_0ae2c_row2_col1,#T_0ae2c_row2_col2,#T_0ae2c_row2_col3,#T_0ae2c_row2_col4,#T_0ae2c_row2_col5,#T_0ae2c_row2_col6,#T_0ae2c_row3_col0,#T_0ae2c_row3_col1,#T_0ae2c_row3_col2,#T_0ae2c_row3_col3,#T_0ae2c_row3_col4,#T_0ae2c_row3_col5,#T_0ae2c_row3_col6,#T_0ae2c_row4_col0,#T_0ae2c_row4_col1,#T_0ae2c_row4_col2,#T_0ae2c_row4_col3,#T_0ae2c_row4_col4,#T_0ae2c_row4_col5,#T_0ae2c_row4_col6,#T_0ae2c_row5_col0,#T_0ae2c_row5_col1,#T_0ae2c_row5_col2,#T_0ae2c_row5_col3,#T_0ae2c_row5_col4,#T_0ae2c_row5_col5,#T_0ae2c_row5_col6,#T_0ae2c_row6_col0,#T_0ae2c_row6_col1,#T_0ae2c_row6_col2,#T_0ae2c_row6_col3,#T_0ae2c_row6_col4,#T_0ae2c_row6_col5,#T_0ae2c_row6_col6,#T_0ae2c_row7_col0,#T_0ae2c_row7_col1,#T_0ae2c_row7_col2,#T_0ae2c_row7_col3,#T_0ae2c_row7_col4,#T_0ae2c_row7_col5,#T_0ae2c_row7_col6,#T_0ae2c_row8_col0,#T_0ae2c_row8_col1,#T_0ae2c_row8_col2,#T_0ae2c_row8_col3,#T_0ae2c_row8_col4,#T_0ae2c_row8_col5,#T_0ae2c_row8_col6,#T_0ae2c_row9_col0,#T_0ae2c_row9_col1,#T_0ae2c_row9_col2,#T_0ae2c_row9_col3,#T_0ae2c_row9_col4,#T_0ae2c_row9_col5,#T_0ae2c_row9_col6,#T_0ae2c_row10_col0,#T_0ae2c_row10_col1,#T_0ae2c_row10_col2,#T_0ae2c_row10_col3,#T_0ae2c_row10_col4,#T_0ae2c_row10_col5,#T_0ae2c_row10_col6,#T_0ae2c_row11_col0,#T_0ae2c_row11_col1,#T_0ae2c_row11_col2,#T_0ae2c_row11_col3,#T_0ae2c_row11_col4,#T_0ae2c_row11_col5,#T_0ae2c_row11_col6,#T_0ae2c_row12_col0,#T_0ae2c_row12_col1,#T_0ae2c_row12_col2,#T_0ae2c_row12_col3,#T_0ae2c_row12_col4,#T_0ae2c_row12_col5,#T_0ae2c_row12_col6,#T_0ae2c_row13_col0,#T_0ae2c_row13_col1,#T_0ae2c_row13_col2,#T_0ae2c_row13_col3,#T_0ae2c_row13_col4,#T_0ae2c_row13_col5,#T_0ae2c_row13_col6,#T_0ae2c_row14_col0,#T_0ae2c_row14_col1,#T_0ae2c_row14_col2,#T_0ae2c_row14_col3,#T_0ae2c_row14_col4,#T_0ae2c_row14_col5,#T_0ae2c_row14_col6,#T_0ae2c_row15_col0,#T_0ae2c_row15_col1,#T_0ae2c_row15_col2,#T_0ae2c_row15_col3,#T_0ae2c_row15_col4,#T_0ae2c_row15_col5,#T_0ae2c_row15_col6,#T_0ae2c_row16_col0,#T_0ae2c_row16_col1,#T_0ae2c_row16_col2,#T_0ae2c_row16_col3,#T_0ae2c_row16_col4,#T_0ae2c_row16_col5,#T_0ae2c_row16_col6{\n",
       "            text-align:  left;\n",
       "            text-align:  left;\n",
       "        }#T_0ae2c_row0_col2,#T_0ae2c_row0_col3,#T_0ae2c_row0_col4,#T_0ae2c_row0_col5,#T_0ae2c_row1_col1,#T_0ae2c_row1_col6{\n",
       "            text-align:  left;\n",
       "            text-align:  left;\n",
       "            background-color:  yellow;\n",
       "        }#T_0ae2c_row0_col7,#T_0ae2c_row1_col7,#T_0ae2c_row2_col7,#T_0ae2c_row3_col7,#T_0ae2c_row4_col7,#T_0ae2c_row5_col7,#T_0ae2c_row7_col7,#T_0ae2c_row8_col7,#T_0ae2c_row9_col7,#T_0ae2c_row11_col7,#T_0ae2c_row12_col7,#T_0ae2c_row13_col7,#T_0ae2c_row14_col7,#T_0ae2c_row15_col7,#T_0ae2c_row16_col7{\n",
       "            text-align:  left;\n",
       "            text-align:  left;\n",
       "            background-color:  lightgrey;\n",
       "        }#T_0ae2c_row6_col7,#T_0ae2c_row10_col7{\n",
       "            text-align:  left;\n",
       "            text-align:  left;\n",
       "            background-color:  yellow;\n",
       "            background-color:  lightgrey;\n",
       "        }</style><table id=\"T_0ae2c_\" ><thead>    <tr>        <th class=\"blank level0\" ></th>        <th class=\"col_heading level0 col0\" >Model</th>        <th class=\"col_heading level0 col1\" >MAE</th>        <th class=\"col_heading level0 col2\" >MSE</th>        <th class=\"col_heading level0 col3\" >RMSE</th>        <th class=\"col_heading level0 col4\" >R2</th>        <th class=\"col_heading level0 col5\" >RMSLE</th>        <th class=\"col_heading level0 col6\" >MAPE</th>        <th class=\"col_heading level0 col7\" >TT (Sec)</th>    </tr></thead><tbody>\n",
       "                <tr>\n",
       "                        <th id=\"T_0ae2c_level0_row0\" class=\"row_heading level0 row0\" >lightgbm</th>\n",
       "                        <td id=\"T_0ae2c_row0_col0\" class=\"data row0 col0\" >Light Gradient Boosting Machine</td>\n",
       "                        <td id=\"T_0ae2c_row0_col1\" class=\"data row0 col1\" >82.4514</td>\n",
       "                        <td id=\"T_0ae2c_row0_col2\" class=\"data row0 col2\" >43967.7887</td>\n",
       "                        <td id=\"T_0ae2c_row0_col3\" class=\"data row0 col3\" >207.5674</td>\n",
       "                        <td id=\"T_0ae2c_row0_col4\" class=\"data row0 col4\" >0.9916</td>\n",
       "                        <td id=\"T_0ae2c_row0_col5\" class=\"data row0 col5\" >0.0826</td>\n",
       "                        <td id=\"T_0ae2c_row0_col6\" class=\"data row0 col6\" >0.0352</td>\n",
       "                        <td id=\"T_0ae2c_row0_col7\" class=\"data row0 col7\" >0.1440</td>\n",
       "            </tr>\n",
       "            <tr>\n",
       "                        <th id=\"T_0ae2c_level0_row1\" class=\"row_heading level0 row1\" >et</th>\n",
       "                        <td id=\"T_0ae2c_row1_col0\" class=\"data row1 col0\" >Extra Trees Regressor</td>\n",
       "                        <td id=\"T_0ae2c_row1_col1\" class=\"data row1 col1\" >69.2351</td>\n",
       "                        <td id=\"T_0ae2c_row1_col2\" class=\"data row1 col2\" >46375.1489</td>\n",
       "                        <td id=\"T_0ae2c_row1_col3\" class=\"data row1 col3\" >213.4919</td>\n",
       "                        <td id=\"T_0ae2c_row1_col4\" class=\"data row1 col4\" >0.9911</td>\n",
       "                        <td id=\"T_0ae2c_row1_col5\" class=\"data row1 col5\" >0.0831</td>\n",
       "                        <td id=\"T_0ae2c_row1_col6\" class=\"data row1 col6\" >0.0297</td>\n",
       "                        <td id=\"T_0ae2c_row1_col7\" class=\"data row1 col7\" >0.9140</td>\n",
       "            </tr>\n",
       "            <tr>\n",
       "                        <th id=\"T_0ae2c_level0_row2\" class=\"row_heading level0 row2\" >gbr</th>\n",
       "                        <td id=\"T_0ae2c_row2_col0\" class=\"data row2 col0\" >Gradient Boosting Regressor</td>\n",
       "                        <td id=\"T_0ae2c_row2_col1\" class=\"data row2 col1\" >97.8814</td>\n",
       "                        <td id=\"T_0ae2c_row2_col2\" class=\"data row2 col2\" >48659.6419</td>\n",
       "                        <td id=\"T_0ae2c_row2_col3\" class=\"data row2 col3\" >218.3987</td>\n",
       "                        <td id=\"T_0ae2c_row2_col4\" class=\"data row2 col4\" >0.9907</td>\n",
       "                        <td id=\"T_0ae2c_row2_col5\" class=\"data row2 col5\" >0.0898</td>\n",
       "                        <td id=\"T_0ae2c_row2_col6\" class=\"data row2 col6\" >0.0421</td>\n",
       "                        <td id=\"T_0ae2c_row2_col7\" class=\"data row2 col7\" >0.4980</td>\n",
       "            </tr>\n",
       "            <tr>\n",
       "                        <th id=\"T_0ae2c_level0_row3\" class=\"row_heading level0 row3\" >rf</th>\n",
       "                        <td id=\"T_0ae2c_row3_col0\" class=\"data row3 col0\" >Random Forest Regressor</td>\n",
       "                        <td id=\"T_0ae2c_row3_col1\" class=\"data row3 col1\" >74.8559</td>\n",
       "                        <td id=\"T_0ae2c_row3_col2\" class=\"data row3 col2\" >53299.3781</td>\n",
       "                        <td id=\"T_0ae2c_row3_col3\" class=\"data row3 col3\" >229.2779</td>\n",
       "                        <td id=\"T_0ae2c_row3_col4\" class=\"data row3 col4\" >0.9898</td>\n",
       "                        <td id=\"T_0ae2c_row3_col5\" class=\"data row3 col5\" >0.0890</td>\n",
       "                        <td id=\"T_0ae2c_row3_col6\" class=\"data row3 col6\" >0.0320</td>\n",
       "                        <td id=\"T_0ae2c_row3_col7\" class=\"data row3 col7\" >1.2840</td>\n",
       "            </tr>\n",
       "            <tr>\n",
       "                        <th id=\"T_0ae2c_level0_row4\" class=\"row_heading level0 row4\" >dt</th>\n",
       "                        <td id=\"T_0ae2c_row4_col0\" class=\"data row4 col0\" >Decision Tree Regressor</td>\n",
       "                        <td id=\"T_0ae2c_row4_col1\" class=\"data row4 col1\" >80.1138</td>\n",
       "                        <td id=\"T_0ae2c_row4_col2\" class=\"data row4 col2\" >90603.8911</td>\n",
       "                        <td id=\"T_0ae2c_row4_col3\" class=\"data row4 col3\" >300.0980</td>\n",
       "                        <td id=\"T_0ae2c_row4_col4\" class=\"data row4 col4\" >0.9826</td>\n",
       "                        <td id=\"T_0ae2c_row4_col5\" class=\"data row4 col5\" >0.1092</td>\n",
       "                        <td id=\"T_0ae2c_row4_col6\" class=\"data row4 col6\" >0.0338</td>\n",
       "                        <td id=\"T_0ae2c_row4_col7\" class=\"data row4 col7\" >0.0500</td>\n",
       "            </tr>\n",
       "            <tr>\n",
       "                        <th id=\"T_0ae2c_level0_row5\" class=\"row_heading level0 row5\" >llar</th>\n",
       "                        <td id=\"T_0ae2c_row5_col0\" class=\"data row5 col0\" >Lasso Least Angle Regression</td>\n",
       "                        <td id=\"T_0ae2c_row5_col1\" class=\"data row5 col1\" >261.1679</td>\n",
       "                        <td id=\"T_0ae2c_row5_col2\" class=\"data row5 col2\" >157402.2092</td>\n",
       "                        <td id=\"T_0ae2c_row5_col3\" class=\"data row5 col3\" >396.1067</td>\n",
       "                        <td id=\"T_0ae2c_row5_col4\" class=\"data row5 col4\" >0.9698</td>\n",
       "                        <td id=\"T_0ae2c_row5_col5\" class=\"data row5 col5\" >0.1336</td>\n",
       "                        <td id=\"T_0ae2c_row5_col6\" class=\"data row5 col6\" >0.0926</td>\n",
       "                        <td id=\"T_0ae2c_row5_col7\" class=\"data row5 col7\" >0.0300</td>\n",
       "            </tr>\n",
       "            <tr>\n",
       "                        <th id=\"T_0ae2c_level0_row6\" class=\"row_heading level0 row6\" >omp</th>\n",
       "                        <td id=\"T_0ae2c_row6_col0\" class=\"data row6 col0\" >Orthogonal Matching Pursuit</td>\n",
       "                        <td id=\"T_0ae2c_row6_col1\" class=\"data row6 col1\" >269.4422</td>\n",
       "                        <td id=\"T_0ae2c_row6_col2\" class=\"data row6 col2\" >172721.8590</td>\n",
       "                        <td id=\"T_0ae2c_row6_col3\" class=\"data row6 col3\" >415.1294</td>\n",
       "                        <td id=\"T_0ae2c_row6_col4\" class=\"data row6 col4\" >0.9668</td>\n",
       "                        <td id=\"T_0ae2c_row6_col5\" class=\"data row6 col5\" >0.1370</td>\n",
       "                        <td id=\"T_0ae2c_row6_col6\" class=\"data row6 col6\" >0.0867</td>\n",
       "                        <td id=\"T_0ae2c_row6_col7\" class=\"data row6 col7\" >0.0220</td>\n",
       "            </tr>\n",
       "            <tr>\n",
       "                        <th id=\"T_0ae2c_level0_row7\" class=\"row_heading level0 row7\" >ada</th>\n",
       "                        <td id=\"T_0ae2c_row7_col0\" class=\"data row7 col0\" >AdaBoost Regressor</td>\n",
       "                        <td id=\"T_0ae2c_row7_col1\" class=\"data row7 col1\" >529.0711</td>\n",
       "                        <td id=\"T_0ae2c_row7_col2\" class=\"data row7 col2\" >380999.1494</td>\n",
       "                        <td id=\"T_0ae2c_row7_col3\" class=\"data row7 col3\" >617.0725</td>\n",
       "                        <td id=\"T_0ae2c_row7_col4\" class=\"data row7 col4\" >0.9267</td>\n",
       "                        <td id=\"T_0ae2c_row7_col5\" class=\"data row7 col5\" >0.3042</td>\n",
       "                        <td id=\"T_0ae2c_row7_col6\" class=\"data row7 col6\" >0.2825</td>\n",
       "                        <td id=\"T_0ae2c_row7_col7\" class=\"data row7 col7\" >0.3260</td>\n",
       "            </tr>\n",
       "            <tr>\n",
       "                        <th id=\"T_0ae2c_level0_row8\" class=\"row_heading level0 row8\" >lr</th>\n",
       "                        <td id=\"T_0ae2c_row8_col0\" class=\"data row8 col0\" >Linear Regression</td>\n",
       "                        <td id=\"T_0ae2c_row8_col1\" class=\"data row8 col1\" >240.8279</td>\n",
       "                        <td id=\"T_0ae2c_row8_col2\" class=\"data row8 col2\" >663420.8031</td>\n",
       "                        <td id=\"T_0ae2c_row8_col3\" class=\"data row8 col3\" >618.8593</td>\n",
       "                        <td id=\"T_0ae2c_row8_col4\" class=\"data row8 col4\" >0.8724</td>\n",
       "                        <td id=\"T_0ae2c_row8_col5\" class=\"data row8 col5\" >0.1346</td>\n",
       "                        <td id=\"T_0ae2c_row8_col6\" class=\"data row8 col6\" >0.0848</td>\n",
       "                        <td id=\"T_0ae2c_row8_col7\" class=\"data row8 col7\" >0.0240</td>\n",
       "            </tr>\n",
       "            <tr>\n",
       "                        <th id=\"T_0ae2c_level0_row9\" class=\"row_heading level0 row9\" >lar</th>\n",
       "                        <td id=\"T_0ae2c_row9_col0\" class=\"data row9 col0\" >Least Angle Regression</td>\n",
       "                        <td id=\"T_0ae2c_row9_col1\" class=\"data row9 col1\" >240.8370</td>\n",
       "                        <td id=\"T_0ae2c_row9_col2\" class=\"data row9 col2\" >663395.0004</td>\n",
       "                        <td id=\"T_0ae2c_row9_col3\" class=\"data row9 col3\" >618.8459</td>\n",
       "                        <td id=\"T_0ae2c_row9_col4\" class=\"data row9 col4\" >0.8724</td>\n",
       "                        <td id=\"T_0ae2c_row9_col5\" class=\"data row9 col5\" >0.1346</td>\n",
       "                        <td id=\"T_0ae2c_row9_col6\" class=\"data row9 col6\" >0.0848</td>\n",
       "                        <td id=\"T_0ae2c_row9_col7\" class=\"data row9 col7\" >0.0280</td>\n",
       "            </tr>\n",
       "            <tr>\n",
       "                        <th id=\"T_0ae2c_level0_row10\" class=\"row_heading level0 row10\" >ridge</th>\n",
       "                        <td id=\"T_0ae2c_row10_col0\" class=\"data row10 col0\" >Ridge Regression</td>\n",
       "                        <td id=\"T_0ae2c_row10_col1\" class=\"data row10 col1\" >240.7979</td>\n",
       "                        <td id=\"T_0ae2c_row10_col2\" class=\"data row10 col2\" >663423.0312</td>\n",
       "                        <td id=\"T_0ae2c_row10_col3\" class=\"data row10 col3\" >618.8601</td>\n",
       "                        <td id=\"T_0ae2c_row10_col4\" class=\"data row10 col4\" >0.8724</td>\n",
       "                        <td id=\"T_0ae2c_row10_col5\" class=\"data row10 col5\" >0.1345</td>\n",
       "                        <td id=\"T_0ae2c_row10_col6\" class=\"data row10 col6\" >0.0848</td>\n",
       "                        <td id=\"T_0ae2c_row10_col7\" class=\"data row10 col7\" >0.0220</td>\n",
       "            </tr>\n",
       "            <tr>\n",
       "                        <th id=\"T_0ae2c_level0_row11\" class=\"row_heading level0 row11\" >br</th>\n",
       "                        <td id=\"T_0ae2c_row11_col0\" class=\"data row11 col0\" >Bayesian Ridge</td>\n",
       "                        <td id=\"T_0ae2c_row11_col1\" class=\"data row11 col1\" >240.3362</td>\n",
       "                        <td id=\"T_0ae2c_row11_col2\" class=\"data row11 col2\" >664303.4584</td>\n",
       "                        <td id=\"T_0ae2c_row11_col3\" class=\"data row11 col3\" >619.0975</td>\n",
       "                        <td id=\"T_0ae2c_row11_col4\" class=\"data row11 col4\" >0.8723</td>\n",
       "                        <td id=\"T_0ae2c_row11_col5\" class=\"data row11 col5\" >0.1340</td>\n",
       "                        <td id=\"T_0ae2c_row11_col6\" class=\"data row11 col6\" >0.0843</td>\n",
       "                        <td id=\"T_0ae2c_row11_col7\" class=\"data row11 col7\" >0.0280</td>\n",
       "            </tr>\n",
       "            <tr>\n",
       "                        <th id=\"T_0ae2c_level0_row12\" class=\"row_heading level0 row12\" >lasso</th>\n",
       "                        <td id=\"T_0ae2c_row12_col0\" class=\"data row12 col0\" >Lasso Regression</td>\n",
       "                        <td id=\"T_0ae2c_row12_col1\" class=\"data row12 col1\" >239.5260</td>\n",
       "                        <td id=\"T_0ae2c_row12_col2\" class=\"data row12 col2\" >669733.5406</td>\n",
       "                        <td id=\"T_0ae2c_row12_col3\" class=\"data row12 col3\" >620.6813</td>\n",
       "                        <td id=\"T_0ae2c_row12_col4\" class=\"data row12 col4\" >0.8712</td>\n",
       "                        <td id=\"T_0ae2c_row12_col5\" class=\"data row12 col5\" >0.1331</td>\n",
       "                        <td id=\"T_0ae2c_row12_col6\" class=\"data row12 col6\" >0.0835</td>\n",
       "                        <td id=\"T_0ae2c_row12_col7\" class=\"data row12 col7\" >0.0300</td>\n",
       "            </tr>\n",
       "            <tr>\n",
       "                        <th id=\"T_0ae2c_level0_row13\" class=\"row_heading level0 row13\" >en</th>\n",
       "                        <td id=\"T_0ae2c_row13_col0\" class=\"data row13 col0\" >Elastic Net</td>\n",
       "                        <td id=\"T_0ae2c_row13_col1\" class=\"data row13 col1\" >240.5998</td>\n",
       "                        <td id=\"T_0ae2c_row13_col2\" class=\"data row13 col2\" >692573.5766</td>\n",
       "                        <td id=\"T_0ae2c_row13_col3\" class=\"data row13 col3\" >634.3139</td>\n",
       "                        <td id=\"T_0ae2c_row13_col4\" class=\"data row13 col4\" >0.8668</td>\n",
       "                        <td id=\"T_0ae2c_row13_col5\" class=\"data row13 col5\" >0.1288</td>\n",
       "                        <td id=\"T_0ae2c_row13_col6\" class=\"data row13 col6\" >0.0776</td>\n",
       "                        <td id=\"T_0ae2c_row13_col7\" class=\"data row13 col7\" >0.0260</td>\n",
       "            </tr>\n",
       "            <tr>\n",
       "                        <th id=\"T_0ae2c_level0_row14\" class=\"row_heading level0 row14\" >knn</th>\n",
       "                        <td id=\"T_0ae2c_row14_col0\" class=\"data row14 col0\" >K Neighbors Regressor</td>\n",
       "                        <td id=\"T_0ae2c_row14_col1\" class=\"data row14 col1\" >730.2902</td>\n",
       "                        <td id=\"T_0ae2c_row14_col2\" class=\"data row14 col2\" >1284938.3750</td>\n",
       "                        <td id=\"T_0ae2c_row14_col3\" class=\"data row14 col3\" >1133.5224</td>\n",
       "                        <td id=\"T_0ae2c_row14_col4\" class=\"data row14 col4\" >0.7529</td>\n",
       "                        <td id=\"T_0ae2c_row14_col5\" class=\"data row14 col5\" >0.3061</td>\n",
       "                        <td id=\"T_0ae2c_row14_col6\" class=\"data row14 col6\" >0.2505</td>\n",
       "                        <td id=\"T_0ae2c_row14_col7\" class=\"data row14 col7\" >0.0560</td>\n",
       "            </tr>\n",
       "            <tr>\n",
       "                        <th id=\"T_0ae2c_level0_row15\" class=\"row_heading level0 row15\" >huber</th>\n",
       "                        <td id=\"T_0ae2c_row15_col0\" class=\"data row15 col0\" >Huber Regressor</td>\n",
       "                        <td id=\"T_0ae2c_row15_col1\" class=\"data row15 col1\" >213.5207</td>\n",
       "                        <td id=\"T_0ae2c_row15_col2\" class=\"data row15 col2\" >5889377.0206</td>\n",
       "                        <td id=\"T_0ae2c_row15_col3\" class=\"data row15 col3\" >1954.3013</td>\n",
       "                        <td id=\"T_0ae2c_row15_col4\" class=\"data row15 col4\" >-0.3180</td>\n",
       "                        <td id=\"T_0ae2c_row15_col5\" class=\"data row15 col5\" >0.1233</td>\n",
       "                        <td id=\"T_0ae2c_row15_col6\" class=\"data row15 col6\" >0.0679</td>\n",
       "                        <td id=\"T_0ae2c_row15_col7\" class=\"data row15 col7\" >0.2580</td>\n",
       "            </tr>\n",
       "            <tr>\n",
       "                        <th id=\"T_0ae2c_level0_row16\" class=\"row_heading level0 row16\" >par</th>\n",
       "                        <td id=\"T_0ae2c_row16_col0\" class=\"data row16 col0\" >Passive Aggressive Regressor</td>\n",
       "                        <td id=\"T_0ae2c_row16_col1\" class=\"data row16 col1\" >472.7623</td>\n",
       "                        <td id=\"T_0ae2c_row16_col2\" class=\"data row16 col2\" >24209373.4592</td>\n",
       "                        <td id=\"T_0ae2c_row16_col3\" class=\"data row16 col3\" >4022.1264</td>\n",
       "                        <td id=\"T_0ae2c_row16_col4\" class=\"data row16 col4\" >-3.5726</td>\n",
       "                        <td id=\"T_0ae2c_row16_col5\" class=\"data row16 col5\" >0.2294</td>\n",
       "                        <td id=\"T_0ae2c_row16_col6\" class=\"data row16 col6\" >0.1535</td>\n",
       "                        <td id=\"T_0ae2c_row16_col7\" class=\"data row16 col7\" >0.0400</td>\n",
       "            </tr>\n",
       "    </tbody></table>"
      ],
      "text/plain": [
       "<pandas.io.formats.style.Styler at 0x7f7ff12bae50>"
      ]
     },
     "metadata": {},
     "output_type": "display_data"
    }
   ],
   "source": [
    "best = compare_models(fold=5)"
   ]
  },
  {
   "cell_type": "code",
   "execution_count": 48,
   "metadata": {},
   "outputs": [
    {
     "data": {
      "text/html": [
       "<style  type=\"text/css\" >\n",
       "#T_e1605_row5_col0,#T_e1605_row5_col1,#T_e1605_row5_col2,#T_e1605_row5_col3,#T_e1605_row5_col4,#T_e1605_row5_col5{\n",
       "            background:  yellow;\n",
       "        }</style><table id=\"T_e1605_\" ><thead>    <tr>        <th class=\"blank level0\" ></th>        <th class=\"col_heading level0 col0\" >MAE</th>        <th class=\"col_heading level0 col1\" >MSE</th>        <th class=\"col_heading level0 col2\" >RMSE</th>        <th class=\"col_heading level0 col3\" >R2</th>        <th class=\"col_heading level0 col4\" >RMSLE</th>        <th class=\"col_heading level0 col5\" >MAPE</th>    </tr></thead><tbody>\n",
       "                <tr>\n",
       "                        <th id=\"T_e1605_level0_row0\" class=\"row_heading level0 row0\" >0</th>\n",
       "                        <td id=\"T_e1605_row0_col0\" class=\"data row0 col0\" >85.1392</td>\n",
       "                        <td id=\"T_e1605_row0_col1\" class=\"data row0 col1\" >47537.1732</td>\n",
       "                        <td id=\"T_e1605_row0_col2\" class=\"data row0 col2\" >218.0302</td>\n",
       "                        <td id=\"T_e1605_row0_col3\" class=\"data row0 col3\" >0.9911</td>\n",
       "                        <td id=\"T_e1605_row0_col4\" class=\"data row0 col4\" >0.0897</td>\n",
       "                        <td id=\"T_e1605_row0_col5\" class=\"data row0 col5\" >0.0337</td>\n",
       "            </tr>\n",
       "            <tr>\n",
       "                        <th id=\"T_e1605_level0_row1\" class=\"row_heading level0 row1\" >1</th>\n",
       "                        <td id=\"T_e1605_row1_col0\" class=\"data row1 col0\" >77.6017</td>\n",
       "                        <td id=\"T_e1605_row1_col1\" class=\"data row1 col1\" >26487.1286</td>\n",
       "                        <td id=\"T_e1605_row1_col2\" class=\"data row1 col2\" >162.7487</td>\n",
       "                        <td id=\"T_e1605_row1_col3\" class=\"data row1 col3\" >0.9949</td>\n",
       "                        <td id=\"T_e1605_row1_col4\" class=\"data row1 col4\" >0.0780</td>\n",
       "                        <td id=\"T_e1605_row1_col5\" class=\"data row1 col5\" >0.0353</td>\n",
       "            </tr>\n",
       "            <tr>\n",
       "                        <th id=\"T_e1605_level0_row2\" class=\"row_heading level0 row2\" >2</th>\n",
       "                        <td id=\"T_e1605_row2_col0\" class=\"data row2 col0\" >81.3368</td>\n",
       "                        <td id=\"T_e1605_row2_col1\" class=\"data row2 col1\" >43009.9737</td>\n",
       "                        <td id=\"T_e1605_row2_col2\" class=\"data row2 col2\" >207.3885</td>\n",
       "                        <td id=\"T_e1605_row2_col3\" class=\"data row2 col3\" >0.9914</td>\n",
       "                        <td id=\"T_e1605_row2_col4\" class=\"data row2 col4\" >0.0807</td>\n",
       "                        <td id=\"T_e1605_row2_col5\" class=\"data row2 col5\" >0.0358</td>\n",
       "            </tr>\n",
       "            <tr>\n",
       "                        <th id=\"T_e1605_level0_row3\" class=\"row_heading level0 row3\" >3</th>\n",
       "                        <td id=\"T_e1605_row3_col0\" class=\"data row3 col0\" >87.1500</td>\n",
       "                        <td id=\"T_e1605_row3_col1\" class=\"data row3 col1\" >64524.7548</td>\n",
       "                        <td id=\"T_e1605_row3_col2\" class=\"data row3 col2\" >254.0172</td>\n",
       "                        <td id=\"T_e1605_row3_col3\" class=\"data row3 col3\" >0.9878</td>\n",
       "                        <td id=\"T_e1605_row3_col4\" class=\"data row3 col4\" >0.0940</td>\n",
       "                        <td id=\"T_e1605_row3_col5\" class=\"data row3 col5\" >0.0374</td>\n",
       "            </tr>\n",
       "            <tr>\n",
       "                        <th id=\"T_e1605_level0_row4\" class=\"row_heading level0 row4\" >4</th>\n",
       "                        <td id=\"T_e1605_row4_col0\" class=\"data row4 col0\" >81.0292</td>\n",
       "                        <td id=\"T_e1605_row4_col1\" class=\"data row4 col1\" >38279.9131</td>\n",
       "                        <td id=\"T_e1605_row4_col2\" class=\"data row4 col2\" >195.6525</td>\n",
       "                        <td id=\"T_e1605_row4_col3\" class=\"data row4 col3\" >0.9926</td>\n",
       "                        <td id=\"T_e1605_row4_col4\" class=\"data row4 col4\" >0.0705</td>\n",
       "                        <td id=\"T_e1605_row4_col5\" class=\"data row4 col5\" >0.0340</td>\n",
       "            </tr>\n",
       "            <tr>\n",
       "                        <th id=\"T_e1605_level0_row5\" class=\"row_heading level0 row5\" >Mean</th>\n",
       "                        <td id=\"T_e1605_row5_col0\" class=\"data row5 col0\" >82.4514</td>\n",
       "                        <td id=\"T_e1605_row5_col1\" class=\"data row5 col1\" >43967.7887</td>\n",
       "                        <td id=\"T_e1605_row5_col2\" class=\"data row5 col2\" >207.5674</td>\n",
       "                        <td id=\"T_e1605_row5_col3\" class=\"data row5 col3\" >0.9916</td>\n",
       "                        <td id=\"T_e1605_row5_col4\" class=\"data row5 col4\" >0.0826</td>\n",
       "                        <td id=\"T_e1605_row5_col5\" class=\"data row5 col5\" >0.0352</td>\n",
       "            </tr>\n",
       "            <tr>\n",
       "                        <th id=\"T_e1605_level0_row6\" class=\"row_heading level0 row6\" >SD</th>\n",
       "                        <td id=\"T_e1605_row6_col0\" class=\"data row6 col0\" >3.3492</td>\n",
       "                        <td id=\"T_e1605_row6_col1\" class=\"data row6 col1\" >12443.2486</td>\n",
       "                        <td id=\"T_e1605_row6_col2\" class=\"data row6 col2\" >29.7246</td>\n",
       "                        <td id=\"T_e1605_row6_col3\" class=\"data row6 col3\" >0.0023</td>\n",
       "                        <td id=\"T_e1605_row6_col4\" class=\"data row6 col4\" >0.0084</td>\n",
       "                        <td id=\"T_e1605_row6_col5\" class=\"data row6 col5\" >0.0013</td>\n",
       "            </tr>\n",
       "    </tbody></table>"
      ],
      "text/plain": [
       "<pandas.io.formats.style.Styler at 0x7f7ff114b2b0>"
      ]
     },
     "metadata": {},
     "output_type": "display_data"
    }
   ],
   "source": [
    "light= create_model('lightgbm', fold=5)"
   ]
  },
  {
   "cell_type": "markdown",
   "metadata": {},
   "source": [
    "Otimizando e *tunnando* o modelo"
   ]
  },
  {
   "cell_type": "code",
   "execution_count": 57,
   "metadata": {},
   "outputs": [
    {
     "data": {
      "text/html": [
       "<style  type=\"text/css\" >\n",
       "#T_04f3f_row8_col0,#T_04f3f_row8_col1,#T_04f3f_row8_col2,#T_04f3f_row8_col3,#T_04f3f_row8_col4,#T_04f3f_row8_col5{\n",
       "            background:  yellow;\n",
       "        }</style><table id=\"T_04f3f_\" ><thead>    <tr>        <th class=\"blank level0\" ></th>        <th class=\"col_heading level0 col0\" >MAE</th>        <th class=\"col_heading level0 col1\" >MSE</th>        <th class=\"col_heading level0 col2\" >RMSE</th>        <th class=\"col_heading level0 col3\" >R2</th>        <th class=\"col_heading level0 col4\" >RMSLE</th>        <th class=\"col_heading level0 col5\" >MAPE</th>    </tr></thead><tbody>\n",
       "                <tr>\n",
       "                        <th id=\"T_04f3f_level0_row0\" class=\"row_heading level0 row0\" >0</th>\n",
       "                        <td id=\"T_04f3f_row0_col0\" class=\"data row0 col0\" >109.5801</td>\n",
       "                        <td id=\"T_04f3f_row0_col1\" class=\"data row0 col1\" >59626.8218</td>\n",
       "                        <td id=\"T_04f3f_row0_col2\" class=\"data row0 col2\" >244.1860</td>\n",
       "                        <td id=\"T_04f3f_row0_col3\" class=\"data row0 col3\" >0.9893</td>\n",
       "                        <td id=\"T_04f3f_row0_col4\" class=\"data row0 col4\" >0.1108</td>\n",
       "                        <td id=\"T_04f3f_row0_col5\" class=\"data row0 col5\" >0.0481</td>\n",
       "            </tr>\n",
       "            <tr>\n",
       "                        <th id=\"T_04f3f_level0_row1\" class=\"row_heading level0 row1\" >1</th>\n",
       "                        <td id=\"T_04f3f_row1_col0\" class=\"data row1 col0\" >100.8422</td>\n",
       "                        <td id=\"T_04f3f_row1_col1\" class=\"data row1 col1\" >36304.8440</td>\n",
       "                        <td id=\"T_04f3f_row1_col2\" class=\"data row1 col2\" >190.5383</td>\n",
       "                        <td id=\"T_04f3f_row1_col3\" class=\"data row1 col3\" >0.9929</td>\n",
       "                        <td id=\"T_04f3f_row1_col4\" class=\"data row1 col4\" >0.0904</td>\n",
       "                        <td id=\"T_04f3f_row1_col5\" class=\"data row1 col5\" >0.0414</td>\n",
       "            </tr>\n",
       "            <tr>\n",
       "                        <th id=\"T_04f3f_level0_row2\" class=\"row_heading level0 row2\" >2</th>\n",
       "                        <td id=\"T_04f3f_row2_col0\" class=\"data row2 col0\" >104.7249</td>\n",
       "                        <td id=\"T_04f3f_row2_col1\" class=\"data row2 col1\" >39858.8825</td>\n",
       "                        <td id=\"T_04f3f_row2_col2\" class=\"data row2 col2\" >199.6469</td>\n",
       "                        <td id=\"T_04f3f_row2_col3\" class=\"data row2 col3\" >0.9922</td>\n",
       "                        <td id=\"T_04f3f_row2_col4\" class=\"data row2 col4\" >0.0838</td>\n",
       "                        <td id=\"T_04f3f_row2_col5\" class=\"data row2 col5\" >0.0450</td>\n",
       "            </tr>\n",
       "            <tr>\n",
       "                        <th id=\"T_04f3f_level0_row3\" class=\"row_heading level0 row3\" >3</th>\n",
       "                        <td id=\"T_04f3f_row3_col0\" class=\"data row3 col0\" >96.1589</td>\n",
       "                        <td id=\"T_04f3f_row3_col1\" class=\"data row3 col1\" >30014.6435</td>\n",
       "                        <td id=\"T_04f3f_row3_col2\" class=\"data row3 col2\" >173.2473</td>\n",
       "                        <td id=\"T_04f3f_row3_col3\" class=\"data row3 col3\" >0.9941</td>\n",
       "                        <td id=\"T_04f3f_row3_col4\" class=\"data row3 col4\" >0.0855</td>\n",
       "                        <td id=\"T_04f3f_row3_col5\" class=\"data row3 col5\" >0.0445</td>\n",
       "            </tr>\n",
       "            <tr>\n",
       "                        <th id=\"T_04f3f_level0_row4\" class=\"row_heading level0 row4\" >4</th>\n",
       "                        <td id=\"T_04f3f_row4_col0\" class=\"data row4 col0\" >103.3201</td>\n",
       "                        <td id=\"T_04f3f_row4_col1\" class=\"data row4 col1\" >60530.9011</td>\n",
       "                        <td id=\"T_04f3f_row4_col2\" class=\"data row4 col2\" >246.0303</td>\n",
       "                        <td id=\"T_04f3f_row4_col3\" class=\"data row4 col3\" >0.9876</td>\n",
       "                        <td id=\"T_04f3f_row4_col4\" class=\"data row4 col4\" >0.0941</td>\n",
       "                        <td id=\"T_04f3f_row4_col5\" class=\"data row4 col5\" >0.0430</td>\n",
       "            </tr>\n",
       "            <tr>\n",
       "                        <th id=\"T_04f3f_level0_row5\" class=\"row_heading level0 row5\" >5</th>\n",
       "                        <td id=\"T_04f3f_row5_col0\" class=\"data row5 col0\" >111.1684</td>\n",
       "                        <td id=\"T_04f3f_row5_col1\" class=\"data row5 col1\" >87015.4953</td>\n",
       "                        <td id=\"T_04f3f_row5_col2\" class=\"data row5 col2\" >294.9839</td>\n",
       "                        <td id=\"T_04f3f_row5_col3\" class=\"data row5 col3\" >0.9837</td>\n",
       "                        <td id=\"T_04f3f_row5_col4\" class=\"data row5 col4\" >0.1077</td>\n",
       "                        <td id=\"T_04f3f_row5_col5\" class=\"data row5 col5\" >0.0492</td>\n",
       "            </tr>\n",
       "            <tr>\n",
       "                        <th id=\"T_04f3f_level0_row6\" class=\"row_heading level0 row6\" >6</th>\n",
       "                        <td id=\"T_04f3f_row6_col0\" class=\"data row6 col0\" >102.3347</td>\n",
       "                        <td id=\"T_04f3f_row6_col1\" class=\"data row6 col1\" >41667.9863</td>\n",
       "                        <td id=\"T_04f3f_row6_col2\" class=\"data row6 col2\" >204.1274</td>\n",
       "                        <td id=\"T_04f3f_row6_col3\" class=\"data row6 col3\" >0.9920</td>\n",
       "                        <td id=\"T_04f3f_row6_col4\" class=\"data row6 col4\" >0.0825</td>\n",
       "                        <td id=\"T_04f3f_row6_col5\" class=\"data row6 col5\" >0.0434</td>\n",
       "            </tr>\n",
       "            <tr>\n",
       "                        <th id=\"T_04f3f_level0_row7\" class=\"row_heading level0 row7\" >7</th>\n",
       "                        <td id=\"T_04f3f_row7_col0\" class=\"data row7 col0\" >102.3418</td>\n",
       "                        <td id=\"T_04f3f_row7_col1\" class=\"data row7 col1\" >43606.5719</td>\n",
       "                        <td id=\"T_04f3f_row7_col2\" class=\"data row7 col2\" >208.8219</td>\n",
       "                        <td id=\"T_04f3f_row7_col3\" class=\"data row7 col3\" >0.9918</td>\n",
       "                        <td id=\"T_04f3f_row7_col4\" class=\"data row7 col4\" >0.0779</td>\n",
       "                        <td id=\"T_04f3f_row7_col5\" class=\"data row7 col5\" >0.0431</td>\n",
       "            </tr>\n",
       "            <tr>\n",
       "                        <th id=\"T_04f3f_level0_row8\" class=\"row_heading level0 row8\" >Mean</th>\n",
       "                        <td id=\"T_04f3f_row8_col0\" class=\"data row8 col0\" >103.8089</td>\n",
       "                        <td id=\"T_04f3f_row8_col1\" class=\"data row8 col1\" >49828.2683</td>\n",
       "                        <td id=\"T_04f3f_row8_col2\" class=\"data row8 col2\" >220.1978</td>\n",
       "                        <td id=\"T_04f3f_row8_col3\" class=\"data row8 col3\" >0.9904</td>\n",
       "                        <td id=\"T_04f3f_row8_col4\" class=\"data row8 col4\" >0.0916</td>\n",
       "                        <td id=\"T_04f3f_row8_col5\" class=\"data row8 col5\" >0.0447</td>\n",
       "            </tr>\n",
       "            <tr>\n",
       "                        <th id=\"T_04f3f_level0_row9\" class=\"row_heading level0 row9\" >SD</th>\n",
       "                        <td id=\"T_04f3f_row9_col0\" class=\"data row9 col0\" >4.4749</td>\n",
       "                        <td id=\"T_04f3f_row9_col1\" class=\"data row9 col1\" >17224.9780</td>\n",
       "                        <td id=\"T_04f3f_row9_col2\" class=\"data row9 col2\" >36.6227</td>\n",
       "                        <td id=\"T_04f3f_row9_col3\" class=\"data row9 col3\" >0.0032</td>\n",
       "                        <td id=\"T_04f3f_row9_col4\" class=\"data row9 col4\" >0.0112</td>\n",
       "                        <td id=\"T_04f3f_row9_col5\" class=\"data row9 col5\" >0.0025</td>\n",
       "            </tr>\n",
       "    </tbody></table>"
      ],
      "text/plain": [
       "<pandas.io.formats.style.Styler at 0x7f801ef98490>"
      ]
     },
     "metadata": {},
     "output_type": "display_data"
    }
   ],
   "source": [
    "tunned_light = tune_model(light, fold=8)"
   ]
  },
  {
   "cell_type": "code",
   "execution_count": 54,
   "metadata": {},
   "outputs": [
    {
     "data": {
      "image/png": "[encoded data removed]",
      "text/plain": [
       "<Figure size 576x396 with 2 Axes>"
      ]
     },
     "metadata": {},
     "output_type": "display_data"
    }
   ],
   "source": [
    "plot_model(light)"
   ]
  },
  {
   "cell_type": "code",
   "execution_count": 53,
   "metadata": {},
   "outputs": [
    {
     "data": {
      "image/png": "[encoded data removed]",
      "text/plain": [
       "<Figure size 576x396 with 1 Axes>"
      ]
     },
     "metadata": {},
     "output_type": "display_data"
    }
   ],
   "source": [
    "plot_model(light, plot ='error')"
   ]
  },
  {
   "cell_type": "code",
   "execution_count": 55,
   "metadata": {},
   "outputs": [
    {
     "data": {
      "image/png": "[encoded data removed]",
      "text/plain": [
       "<Figure size 800x500 with 1 Axes>"
      ]
     },
     "metadata": {},
     "output_type": "display_data"
    }
   ],
   "source": [
    "plot_model(light, plot ='feature')"
   ]
  },
  {
   "cell_type": "markdown",
   "metadata": {},
   "source": [
    "Para finalizar, o modelo será testado com todos os dados, para ser levado para produção."
   ]
  },
  {
   "cell_type": "code",
   "execution_count": 58,
   "metadata": {},
   "outputs": [],
   "source": [
    "final_light = finalize_model(light)"
   ]
  },
  {
   "cell_type": "code",
   "execution_count": 59,
   "metadata": {},
   "outputs": [
    {
     "name": "stdout",
     "output_type": "stream",
     "text": [
      "Transformation Pipeline and Model Succesfully Saved\n"
     ]
    },
    {
     "data": {
      "text/plain": [
       "(Pipeline(memory=None,\n",
       "          steps=[('dtypes',\n",
       "                  DataTypes_Auto_infer(categorical_features=[],\n",
       "                                       display_types=True, features_todrop=[],\n",
       "                                       id_columns=[], ml_usecase='regression',\n",
       "                                       numerical_features=['num_quartos',\n",
       "                                                           'num_banheiros',\n",
       "                                                           'garagem',\n",
       "                                                           'num_andares',\n",
       "                                                           'aceita_animais',\n",
       "                                                           'mobilia'],\n",
       "                                       target='valor_aluguel',\n",
       "                                       time_features=[])),\n",
       "                 ('imputer',\n",
       "                  Simple_Imputer(categorical_strategy=...\n",
       "                  LGBMRegressor(boosting_type='gbdt', class_weight=None,\n",
       "                                colsample_bytree=1.0, importance_type='split',\n",
       "                                learning_rate=0.1, max_depth=-1,\n",
       "                                min_child_samples=20, min_child_weight=0.001,\n",
       "                                min_split_gain=0.0, n_estimators=100, n_jobs=-1,\n",
       "                                num_leaves=31, objective=None, random_state=3412,\n",
       "                                reg_alpha=0.0, reg_lambda=0.0, silent=True,\n",
       "                                subsample=1.0, subsample_for_bin=200000,\n",
       "                                subsample_freq=0)]],\n",
       "          verbose=False),\n",
       " 'modelo_final_light.pkl')"
      ]
     },
     "execution_count": 59,
     "metadata": {},
     "output_type": "execute_result"
    }
   ],
   "source": [
    "save_model(final_light,'modelo_final_light')"
   ]
  },
  {
   "cell_type": "code",
   "execution_count": null,
   "metadata": {},
   "outputs": [
    {
     "name": "stdout",
     "output_type": "stream",
     "text": [
      "[2021-07-31 13:17:26 -0300] [111426] [INFO] Starting gunicorn 20.1.0\r\n",
      "[2021-07-31 13:17:26 -0300] [111426] [INFO] Listening at: http://127.0.0.1:5000 (111426)\r\n",
      "[2021-07-31 13:17:26 -0300] [111426] [INFO] Using worker: sync\r\n",
      "[2021-07-31 13:17:26 -0300] [111428] [INFO] Booting worker with pid: 111428\r\n"
     ]
    }
   ],
   "source": [
    "!mlflow ui"
   ]
  },
  {
   "cell_type": "code",
   "execution_count": null,
   "metadata": {},
   "outputs": [],
   "source": []
  }
 ],
 "metadata": {
  "colab": {
   "name": "notebook.ipynb",
   "provenance": []
  },
  "kernelspec": {
   "display_name": "Python 3",
   "language": "python",
   "name": "python3"
  },
  "language_info": {
   "codemirror_mode": {
    "name": "ipython",
    "version": 3
   },
   "file_extension": ".py",
   "mimetype": "text/x-python",
   "name": "python",
   "nbconvert_exporter": "python",
   "pygments_lexer": "ipython3",
   "version": "3.8.10"
  },
  "widgets": {
   "application/vnd.jupyter.widget-state+json": {
    "0862787cf2b849ca9957d47f51a081a8": {
     "model_module": "@jupyter-widgets/controls",
     "model_name": "FloatProgressModel",
     "state": {
      "_dom_classes": [],
      "_model_module": "@jupyter-widgets/controls",
      "_model_module_version": "1.5.0",
      "_model_name": "FloatProgressModel",
      "_view_count": null,
      "_view_module": "@jupyter-widgets/controls",
      "_view_module_version": "1.5.0",
      "_view_name": "ProgressView",
      "bar_style": "success",
      "description": "",
      "description_tooltip": null,
      "layout": "IPY_MODEL_22ee2bb768d44dedb0e6ef9aec9f106b",
      "max": 1,
      "min": 0,
      "orientation": "horizontal",
      "style": "IPY_MODEL_f6863ef18248425f9bb2a52a36277d3a",
      "value": 1
     }
    },
    "15944e904034483397383211be1fe08d": {
     "model_module": "@jupyter-widgets/controls",
     "model_name": "HTMLModel",
     "state": {
      "_dom_classes": [],
      "_model_module": "@jupyter-widgets/controls",
      "_model_module_version": "1.5.0",
      "_model_name": "HTMLModel",
      "_view_count": null,
      "_view_module": "@jupyter-widgets/controls",
      "_view_module_version": "1.5.0",
      "_view_name": "HTMLView",
      "description": "",
      "description_tooltip": null,
      "layout": "IPY_MODEL_8b76469f6f2848fead97ff45135c3bec",
      "placeholder": "​",
      "style": "IPY_MODEL_a64d65aed70044eebc2904417228419f",
      "value": "Done! Use &#x27;show&#x27; commands to display/save.   "
     }
    },
    "22ee2bb768d44dedb0e6ef9aec9f106b": {
     "model_module": "@jupyter-widgets/base",
     "model_name": "LayoutModel",
     "state": {
      "_model_module": "@jupyter-widgets/base",
      "_model_module_version": "1.2.0",
      "_model_name": "LayoutModel",
      "_view_count": null,
      "_view_module": "@jupyter-widgets/base",
      "_view_module_version": "1.2.0",
      "_view_name": "LayoutView",
      "align_content": null,
      "align_items": null,
      "align_self": null,
      "border": null,
      "bottom": null,
      "display": null,
      "flex": "2",
      "flex_flow": null,
      "grid_area": null,
      "grid_auto_columns": null,
      "grid_auto_flow": null,
      "grid_auto_rows": null,
      "grid_column": null,
      "grid_gap": null,
      "grid_row": null,
      "grid_template_areas": null,
      "grid_template_columns": null,
      "grid_template_rows": null,
      "height": null,
      "justify_content": null,
      "justify_items": null,
      "left": null,
      "margin": null,
      "max_height": null,
      "max_width": null,
      "min_height": null,
      "min_width": null,
      "object_fit": null,
      "object_position": null,
      "order": null,
      "overflow": null,
      "overflow_x": null,
      "overflow_y": null,
      "padding": null,
      "right": null,
      "top": null,
      "visibility": null,
      "width": null
     }
    },
    "5c550d9afe9d4d5f9585b625e48d9998": {
     "model_module": "@jupyter-widgets/controls",
     "model_name": "HBoxModel",
     "state": {
      "_dom_classes": [],
      "_model_module": "@jupyter-widgets/controls",
      "_model_module_version": "1.5.0",
      "_model_name": "HBoxModel",
      "_view_count": null,
      "_view_module": "@jupyter-widgets/controls",
      "_view_module_version": "1.5.0",
      "_view_name": "HBoxView",
      "box_style": "",
      "children": [
       "IPY_MODEL_15944e904034483397383211be1fe08d",
       "IPY_MODEL_0862787cf2b849ca9957d47f51a081a8",
       "IPY_MODEL_82083441a2a54b95ad25334769d7cfae"
      ],
      "layout": "IPY_MODEL_7f5c6079e76345f9913f202d1a2a354b"
     }
    },
    "7f5c6079e76345f9913f202d1a2a354b": {
     "model_module": "@jupyter-widgets/base",
     "model_name": "LayoutModel",
     "state": {
      "_model_module": "@jupyter-widgets/base",
      "_model_module_version": "1.2.0",
      "_model_name": "LayoutModel",
      "_view_count": null,
      "_view_module": "@jupyter-widgets/base",
      "_view_module_version": "1.2.0",
      "_view_name": "LayoutView",
      "align_content": null,
      "align_items": null,
      "align_self": null,
      "border": null,
      "bottom": null,
      "display": "inline-flex",
      "flex": null,
      "flex_flow": "row wrap",
      "grid_area": null,
      "grid_auto_columns": null,
      "grid_auto_flow": null,
      "grid_auto_rows": null,
      "grid_column": null,
      "grid_gap": null,
      "grid_row": null,
      "grid_template_areas": null,
      "grid_template_columns": null,
      "grid_template_rows": null,
      "height": null,
      "justify_content": null,
      "justify_items": null,
      "left": null,
      "margin": null,
      "max_height": null,
      "max_width": null,
      "min_height": null,
      "min_width": null,
      "object_fit": null,
      "object_position": null,
      "order": null,
      "overflow": null,
      "overflow_x": null,
      "overflow_y": null,
      "padding": null,
      "right": null,
      "top": null,
      "visibility": null,
      "width": "100%"
     }
    },
    "82083441a2a54b95ad25334769d7cfae": {
     "model_module": "@jupyter-widgets/controls",
     "model_name": "HTMLModel",
     "state": {
      "_dom_classes": [],
      "_model_module": "@jupyter-widgets/controls",
      "_model_module_version": "1.5.0",
      "_model_name": "HTMLModel",
      "_view_count": null,
      "_view_module": "@jupyter-widgets/controls",
      "_view_module_version": "1.5.0",
      "_view_name": "HTMLView",
      "description": "",
      "description_tooltip": null,
      "layout": "IPY_MODEL_b6fcfa9e17974e6996a75faab2c31a43",
      "placeholder": "​",
      "style": "IPY_MODEL_d067259dbbc94e7ba1daaca8f3215a4c",
      "value": " [100%]   00:00 -&gt; (00:00 left)"
     }
    },
    "8b76469f6f2848fead97ff45135c3bec": {
     "model_module": "@jupyter-widgets/base",
     "model_name": "LayoutModel",
     "state": {
      "_model_module": "@jupyter-widgets/base",
      "_model_module_version": "1.2.0",
      "_model_name": "LayoutModel",
      "_view_count": null,
      "_view_module": "@jupyter-widgets/base",
      "_view_module_version": "1.2.0",
      "_view_name": "LayoutView",
      "align_content": null,
      "align_items": null,
      "align_self": null,
      "border": null,
      "bottom": null,
      "display": null,
      "flex": null,
      "flex_flow": null,
      "grid_area": null,
      "grid_auto_columns": null,
      "grid_auto_flow": null,
      "grid_auto_rows": null,
      "grid_column": null,
      "grid_gap": null,
      "grid_row": null,
      "grid_template_areas": null,
      "grid_template_columns": null,
      "grid_template_rows": null,
      "height": null,
      "justify_content": null,
      "justify_items": null,
      "left": null,
      "margin": null,
      "max_height": null,
      "max_width": null,
      "min_height": null,
      "min_width": null,
      "object_fit": null,
      "object_position": null,
      "order": null,
      "overflow": null,
      "overflow_x": null,
      "overflow_y": null,
      "padding": null,
      "right": null,
      "top": null,
      "visibility": null,
      "width": null
     }
    },
    "a64d65aed70044eebc2904417228419f": {
     "model_module": "@jupyter-widgets/controls",
     "model_name": "DescriptionStyleModel",
     "state": {
      "_model_module": "@jupyter-widgets/controls",
      "_model_module_version": "1.5.0",
      "_model_name": "DescriptionStyleModel",
      "_view_count": null,
      "_view_module": "@jupyter-widgets/base",
      "_view_module_version": "1.2.0",
      "_view_name": "StyleView",
      "description_width": ""
     }
    },
    "b6fcfa9e17974e6996a75faab2c31a43": {
     "model_module": "@jupyter-widgets/base",
     "model_name": "LayoutModel",
     "state": {
      "_model_module": "@jupyter-widgets/base",
      "_model_module_version": "1.2.0",
      "_model_name": "LayoutModel",
      "_view_count": null,
      "_view_module": "@jupyter-widgets/base",
      "_view_module_version": "1.2.0",
      "_view_name": "LayoutView",
      "align_content": null,
      "align_items": null,
      "align_self": null,
      "border": null,
      "bottom": null,
      "display": null,
      "flex": null,
      "flex_flow": null,
      "grid_area": null,
      "grid_auto_columns": null,
      "grid_auto_flow": null,
      "grid_auto_rows": null,
      "grid_column": null,
      "grid_gap": null,
      "grid_row": null,
      "grid_template_areas": null,
      "grid_template_columns": null,
      "grid_template_rows": null,
      "height": null,
      "justify_content": null,
      "justify_items": null,
      "left": null,
      "margin": null,
      "max_height": null,
      "max_width": null,
      "min_height": null,
      "min_width": null,
      "object_fit": null,
      "object_position": null,
      "order": null,
      "overflow": null,
      "overflow_x": null,
      "overflow_y": null,
      "padding": null,
      "right": null,
      "top": null,
      "visibility": null,
      "width": null
     }
    },
    "d067259dbbc94e7ba1daaca8f3215a4c": {
     "model_module": "@jupyter-widgets/controls",
     "model_name": "DescriptionStyleModel",
     "state": {
      "_model_module": "@jupyter-widgets/controls",
      "_model_module_version": "1.5.0",
      "_model_name": "DescriptionStyleModel",
      "_view_count": null,
      "_view_module": "@jupyter-widgets/base",
      "_view_module_version": "1.2.0",
      "_view_name": "StyleView",
      "description_width": ""
     }
    },
    "f6863ef18248425f9bb2a52a36277d3a": {
     "model_module": "@jupyter-widgets/controls",
     "model_name": "ProgressStyleModel",
     "state": {
      "_model_module": "@jupyter-widgets/controls",
      "_model_module_version": "1.5.0",
      "_model_name": "ProgressStyleModel",
      "_view_count": null,
      "_view_module": "@jupyter-widgets/base",
      "_view_module_version": "1.2.0",
      "_view_name": "StyleView",
      "bar_color": null,
      "description_width": ""
     }
    }
   }
  }
 },
 "nbformat": 4,
 "nbformat_minor": 1
}
